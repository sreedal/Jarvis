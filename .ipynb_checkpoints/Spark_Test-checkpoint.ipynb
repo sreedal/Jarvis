{
 "cells": [
  {
   "cell_type": "code",
   "execution_count": 1,
   "metadata": {},
   "outputs": [
    {
     "name": "stdout",
     "output_type": "stream",
     "text": [
      "Requirement already satisfied: kafka-python in /opt/conda/lib/python3.7/site-packages (1.4.7)\n",
      "Requirement already satisfied: redis in /opt/conda/lib/python3.7/site-packages (3.3.11)\n"
     ]
    }
   ],
   "source": [
    "!pip install kafka-python\n",
    "!pip install redis"
   ]
  },
  {
   "cell_type": "code",
   "execution_count": 2,
   "metadata": {},
   "outputs": [],
   "source": [
    "import os\n",
    "import requests\n",
    "import json\n",
    "import redis\n",
    "import pyspark\n",
    "from pyspark import SparkContext, SparkConf\n",
    "from pyspark.sql import SparkSession\n",
    "from pyspark.streaming import StreamingContext\n",
    "from pyspark.streaming.kafka import KafkaUtils\n",
    "from datetime import datetime\n",
    "import uuid"
   ]
  },
  {
   "cell_type": "code",
   "execution_count": 4,
   "metadata": {},
   "outputs": [],
   "source": [
    "os.environ['PYSPARK_SUBMIT_ARGS'] = '--master local[2] pyspark-shell'\n",
    "conf = SparkConf().set(\"spark.jars\",\"/home/jovyan/work/spark-streaming-kafka-0-8-assembly_2.11-2.4.4.jar\")\n",
    "sc = SparkContext(conf=conf)\n",
    "sc.setLogLevel(\"WARN\")\n",
    "ssc = StreamingContext(sc,60) # 60 is the batch interval :)\n",
    "debug = True\n",
    "saveToLocalDisk = True\n",
    "spark = SparkSession(sc)"
   ]
  },
  {
   "cell_type": "code",
   "execution_count": 5,
   "metadata": {},
   "outputs": [
    {
     "name": "stdout",
     "output_type": "stream",
     "text": [
      "+-------------+--------------------+--------------------+--------------------+\n",
      "|          _c0|                 _c1|                 _c2|                 _c3|\n",
      "+-------------+--------------------+--------------------+--------------------+\n",
      "|1.577809259E9|401(k) changes co...|https://finance.y...|These provisions ...|\n",
      "|1.577979776E9|Aeroflot Named Wo...|https://www.nasda...|(RTTNews) - Aerof...|\n",
      "|1.577979703E9|Jumia Faces an Un...|https://www.nasda...|Jumia Technologie...|\n",
      "|1.577979479E9|BUZZ-U.S. STOCKS ...|https://www.nasda...|A compilation of ...|\n",
      "|1.577979472E9|Argentina's Ferna...|https://www.nasda...|Argentina's new P...|\n",
      "|1.577979174E9|Thursday 1/2 Insi...|https://www.nasda...|As the saying goe...|\n",
      "|1.577979148E9|First Week of Aug...|https://www.nasda...|Investors in Kilr...|\n",
      "|1.577979092E9|The Biggest Influ...|https://www.nasda...|The new year is a...|\n",
      "|1.577979081E9|Nasdaq 100 Movers...|https://www.nasda...|In early trading ...|\n",
      "| 1.57797906E9|4 Retirement Plan...|https://www.nasda...|Retirement is a p...|\n",
      "+-------------+--------------------+--------------------+--------------------+\n",
      "only showing top 10 rows\n",
      "\n"
     ]
    }
   ],
   "source": [
    "past_data = spark.read.option(\"header\", \"false\").csv(\"/home/jovyan/work/NewsData.csv/*.csv\")\n",
    "past_data.show(10)"
   ]
  },
  {
   "cell_type": "code",
   "execution_count": 116,
   "metadata": {},
   "outputs": [
    {
     "name": "stdout",
     "output_type": "stream",
     "text": [
      "+-------------+--------------------+--------------------+--------------------+----+\n",
      "|    Timestamp|               Title|                Link|            Summary1|Rank|\n",
      "+-------------+--------------------+--------------------+--------------------+----+\n",
      "|1.578196637E9|The Week Ahead – ...|https://www.nasda...|FXEmpire.com - On...|   1|\n",
      "|  1.5781932E9|Why Huazhu Group ...|https://www.nasda...|What happened\\nSh...|   2|\n",
      "|  1.5781896E9|Why Baozun Stock ...|https://www.nasda...|What happened\\nSh...|   3|\n",
      "|  1.5781887E9|Why iQiyi Stock C...|https://www.nasda...|What happened\\nSh...|   4|\n",
      "|  1.5781878E9|Why Elastic Stock...|https://www.nasda...|What happened\\nSh...|   5|\n",
      "|   1.578186E9|Here's Why Mirati...|https://www.nasda...|What happened\\nSh...|   6|\n",
      "|  1.5781869E9|Here's Why Shares...|https://www.nasda...|What happened\\nBo...|   7|\n",
      "|  1.5781848E9|Fed Has Many Tool...|https://www.wsj.c...|The Federal Reser...|   8|\n",
      "| 1.57818048E9|Why Your 2020 Res...|https://www.nasda...|As has been the c...|   9|\n",
      "|  1.5781755E9|How Businesses (a...|https://www.nasda...|The phrase\\xa0\"di...|  10|\n",
      "| 1.57817232E9|\"Tesla Killer\" Ri...|https://www.nasda...|Everyone knows th...|  11|\n",
      "| 1.57817202E9|These 3 Stocks Ar...|https://www.nasda...|Thanks to a nearl...|  12|\n",
      "|  1.5781698E9|Better Buy: Cara ...|https://www.nasda...|Choosing between ...|  13|\n",
      "| 1.57816986E9|Amazon's Biggest ...|https://www.nasda...|Shareholders scan...|  14|\n",
      "| 1.57816986E9|Mark Your Calenda...|https://www.nasda...|Apple (NASDAQ: AA...|  14|\n",
      "| 1.57816848E9|How Safe Are AT&T...|https://www.nasda...|AT&T (NYSE: T) ha...|  15|\n",
      "|  1.5781536E9|New York Dangled ...|https://www.wsj.c...|State officials o...|  16|\n",
      "|1.578148738E9|What To Expect Fr...|https://finance.y...|Advanced Micro De...|  17|\n",
      "|  1.5781338E9|It Was a Lost Dec...|https://www.wsj.c...|The flagship Shan...|  18|\n",
      "|   1.578114E9|Amazon Has Long R...|https://www.wsj.c...|The tech giant is...|  19|\n",
      "+-------------+--------------------+--------------------+--------------------+----+\n",
      "only showing top 20 rows\n",
      "\n"
     ]
    }
   ],
   "source": [
    "from pyspark.sql import Window,WindowSpec;\n",
    "from pyspark.sql.functions import *\n",
    "\n",
    "window=Window.orderBy(col(\"Timestamp\").desc());\n",
    "df = past_data.toDF(\"Timestamp\",\"Title\",\"Link\",\"Summary1\");\n",
    "ranked = df.withColumn(\"Rank\",dense_rank().over(window)).cache().drop_duplicates();\n",
    "ranked.show()\n",
    "#WindowSpec window=Window.partitionBy(col(\"dep\")).orderBy(col(\"sal\").desc());\n",
    "#Column column_dense_rank=dense_rank().over(window);\n",
    "#df.select(col(\"name\"),col(\"dep\"),col(\"sal\"),column_dense_rank.as(\"rank\")).where(col(\"rank\").leq(2)).show();"
   ]
  },
  {
   "cell_type": "code",
   "execution_count": 133,
   "metadata": {},
   "outputs": [
    {
     "name": "stdout",
     "output_type": "stream",
     "text": [
      "+--------------------+\n",
      "|          Dictionary|\n",
      "+--------------------+\n",
      "|[[Title -> Bankru...|\n",
      "|[[Title -> How Bu...|\n",
      "|[[Title -> The Hi...|\n",
      "|[[Title -> Thursd...|\n",
      "|[[Title -> Treasu...|\n",
      "|[[Title -> Top 10...|\n",
      "|[[Title -> Chines...|\n",
      "|[[Title -> Turkis...|\n",
      "|[[Title -> CES 20...|\n",
      "|[[Title -> Japane...|\n",
      "|[[Title -> Mexica...|\n",
      "|[[Title -> China ...|\n",
      "|[[Title -> Study ...|\n",
      "|[[Title -> Lower-...|\n",
      "|[[Title -> It's t...|\n",
      "|[[Title -> The We...|\n",
      "+--------------------+\n",
      "\n"
     ]
    }
   ],
   "source": [
    "import math\n",
    "from pyspark.sql.functions import udf\n",
    "from pyspark.sql.types import IntegerType, StringType, MapType\n",
    "\n",
    "def get_bucket(rank):\n",
    "    return math.floor(rank/10)\n",
    "\n",
    "def get_json(summary, title, link, timestamp):\n",
    "    #return \"{\\\"Summary\\\":\\\"\"+str(summary)+\"\\\",\\\"Title\\\":\\\"\"+str(title)+\"\\\",\\\"Link\\\":\\\"\"+str(link)+\"\\\",\\\"Timestamp\\\":\\\"\"+str(timestamp)+\"\\\"}\"\n",
    "    return {\"Summary\":summary, \"Title\":title, \"Link\":link, \"Timestamp\":timestamp}\n",
    "\n",
    "def get_unicode_escaped_string(text):\n",
    "    if(text is None):\n",
    "        return \"\"\n",
    "    else:\n",
    "        return text.encode(\"ascii\").decode(\"unicode_escape\")\n",
    "\n",
    "get_bucket_udf = udf(get_bucket, IntegerType())\n",
    "get_json_udf = udf(get_json, MapType(StringType(),StringType()))\n",
    "get_unicode_escaped_string_udf = udf(get_unicode_escaped_string, StringType())\n",
    "\n",
    "branked = ranked.withColumn(\"Bucket\", get_bucket_udf('Rank')) \\\n",
    "                .withColumn(\"Summary\", get_unicode_escaped_string_udf(\"Summary1\")) \\\n",
    "                .withColumn(\"JSON\",get_json_udf(\"Summary\",\"Title\",\"Link\",\"Timestamp\")) \\\n",
    "                .groupBy(\"Bucket\").agg(collect_list(\"JSON\").alias(\"Dictionary\"))\n",
    "branked.select(\"Dictionary\").show()"
   ]
  },
  {
   "cell_type": "code",
   "execution_count": 134,
   "metadata": {},
   "outputs": [],
   "source": [
    "def SetVal(x):\n",
    "    r = redis.StrictRedis(host = 'redis-store', port = 6379)\n",
    "    idVal = str(uuid.uuid4())\n",
    "    if (r.get('LatestNews') != None):\n",
    "        try:\n",
    "            batchSet = json.loads(r.get('LatestNews'))\n",
    "            if (\"id\" in batchSet):\n",
    "                r.set('LatestNews',\"{\\\"tasks\\\":\"+json.dumps(x)+\", \\\"id\\\":\\\"\"+idVal+\"\\\", \\\"next\\\":\\\"\"+batchSet[\"id\"]+\"\\\"}\")\n",
    "                r.set(idVal,\"{\\\"tasks\\\":\"+json.dumps(x)+\", \\\"id\\\":\\\"\"+idVal+\"\\\", \\\"next\\\":\\\"\"+batchSet[\"id\"]+\"\\\"}\")\n",
    "            else:\n",
    "                r.set('LatestNews',\"{\\\"tasks\\\":\"+json.dumps(x)+\", \\\"id\\\":\\\"\"+idVal+\"\\\", \\\"next\\\":\\\"\\\"}\")\n",
    "                r.set(idVal,\"{\\\"tasks\\\":\"+json.dumps(x)+\", \\\"id\\\":\\\"\"+idVal+\"\\\", \\\"next\\\":\\\"\\\"}\")\n",
    "        except Exception:\n",
    "            r.set('LatestNews',\"{\\\"tasks\\\":\"+json.dumps(x)+\", \\\"id\\\":\\\"\"+idVal+\"\\\", \\\"next\\\":\\\"\\\"}\")\n",
    "            r.set(idVal,\"{\\\"tasks\\\":\"+json.dumps(x)+\", \\\"id\\\":\\\"\"+idVal+\"\\\", \\\"next\\\":\\\"\\\"}\")\n",
    "    else:\n",
    "        r.set('LatestNews',\"{\\\"tasks\\\":\"+json.dumps(x)+\", \\\"id\\\":\\\"\"+idVal+\"\\\", \\\"next\\\":\\\"\\\"}\")\n",
    "        r.set(idVal,\"{\\\"tasks\\\":\"+json.dumps(x)+\", \\\"id\\\":\\\"\"+idVal+\"\\\", \\\"next\\\":\\\"\\\"}\")\n",
    "    \n",
    "for val in branked.select(\"Dictionary\").rdd.collect():\n",
    "    SetVal([item for sublist in val for item in sublist])"
   ]
  },
  {
   "cell_type": "code",
   "execution_count": 135,
   "metadata": {},
   "outputs": [
    {
     "name": "stdout",
     "output_type": "stream",
     "text": [
      "b'{\"tasks\":[{\"Title\": \"The Week Ahead \\\\u2013 Stats, Impeachment, and Brexit to Take a Back Seat as Iran Takes Center Stage\", \"Summary\": \"FXEmpire.com - On the Macro\\\\nIt\\\\u2019s a busy week ahead on the economic calendar, with 51 stats to monitor. In the previous week, just 27 stats had been in focus.\", \"Timestamp\": \"1.578196637E9\", \"Link\": \"https://www.nasdaq.com/articles/the-week-ahead-stats-impeachment-and-brexit-to-take-a-back-seat-as-iran-takes-center-stage\"}, {\"Title\": \"Why Huazhu Group Stock Climbed 17.1% in December\", \"Summary\": \"What happened\\\\nShares of Huazhu Group\\\\u00a0(NASDAQ: HTHT) rose 17.1% in December, according to data from\\\\u00a0S&P Global Market Intelligence\\\\u00a0. The hotel company\\'s stock posted big gains as the broader Chinese stock market advanced thanks to an improved trade outlook.\", \"Timestamp\": \"1.5781932E9\", \"Link\": \"https://www.nasdaq.com/articles/why-huazhu-group-stock-climbed-17.1-in-december-2020-01-05\"}, {\"Title\": \"Why Baozun Stock Fell 12.8% in December\", \"Summary\": \"What happened\\\\nShares of Baozun\\\\u00a0(NASDAQ: BZUN) slipped 12.8% in December, according to data from\\\\u00a0S&P Global Market Intelligence\\\\u00a0. The Chinese e-commerce stock has been under pressure after after the company reported disappointing third-quarter earnings results on Nov. 21,\", \"Timestamp\": \"1.5781896E9\", \"Link\": \"https://www.nasdaq.com/articles/why-baozun-stock-fell-12.8-in-december-2020-01-05\"}, {\"Title\": \"Why iQiyi Stock Climbed 10.2% in December\", \"Summary\": \"What happened\\\\nShares of iQiyi\\\\u00a0(NASDAQ: IQ) rose 10.2% in December, according to data from\\\\u00a0S&P Global Market Intelligence\\\\u00a0. The streaming company\\'s stock gained ground amid broader a broader rally for Chinese stocks as trade tensions with the U.S. deescalated.\", \"Timestamp\": \"1.5781887E9\", \"Link\": \"https://www.nasdaq.com/articles/why-iqiyi-stock-climbed-10.2-in-december-2020-01-05\"}, {\"Title\": \"Why Elastic Stock Dropped 19% in December\", \"Summary\": \"What happened\\\\nShares of Elastic\\\\u00a0(NYSE: ESTC) fell after the cloud-based enterprise search company reported second-quarter earnings early in December. The stock shed 19% of its value in the month, according to data from\\\\u00a0S&P Global Market Intelligence.\", \"Timestamp\": \"1.5781878E9\", \"Link\": \"https://www.nasdaq.com/articles/why-elastic-stock-dropped-19-in-december-2020-01-05\"}, {\"Title\": \"Here\\'s Why Mirati Therapeutics Jumped 28% in December\", \"Summary\": \"What happened\\\\nShares of Mirati Therapeutics (NASDAQ: MRTX),\\\\u00a0a clinical-stage biopharmaceutical company, rose 27.9% in December, according to data from S&P Global Market Intelligence.\\\\u00a0Investors were revved up by results from an ovarian cancer study involving Mirati\\'s sitrav\", \"Timestamp\": \"1.578186E9\", \"Link\": \"https://www.nasdaq.com/articles/heres-why-mirati-therapeutics-jumped-28-in-december-2020-01-05\"}, {\"Title\": \"Here\\'s Why Shares of Newmont Goldcorp Soared 13% in December\", \"Summary\": \"What happened\\\\nBouncing back from the 3% dip they experienced in November, shares of Newmont Goldcorp (NYSE: NEM), an industry leader in\\\\u00a0gold\\\\u00a0production, climbed 13% last month, according to data from\\\\u00a0S&P Global Market Intelligence.\", \"Timestamp\": \"1.5781869E9\", \"Link\": \"https://www.nasdaq.com/articles/heres-why-shares-of-newmont-goldcorp-soared-13-in-december-2020-01-05\"}, {\"Title\": \"Fed Has Many Tools to Deter Recession, Former Chairman Bernanke Says\", \"Summary\": \"The Federal Reserve has ample tools for fighting a potential recession even though its benchmark interest rate remains historically low, former Fed Chairman Ben Bernanke said.\", \"Timestamp\": \"1.5781848E9\", \"Link\": \"https://www.wsj.com/articles/fed-has-many-tools-to-deter-recession-former-chairman-bernanke-says-11578184800?mod=pls_whats_news_us_business_f\"}, {\"Title\": \"Why Your 2020 Resolution Should Be to Buy More Energy Stocks\", \"Summary\": \"As has been the case for several years, 2019 was another lackluster one for\\\\u00a0energy stocks. Most significantly underperformed the\\\\u00a0S&P 500, which gained 29% on the year. The average one in the\\\\u00a0Vanguard Energy ETF\\\\u00a0-- an\\\\u00a0exchange-traded fund\\\\u00a0that holds more than 140 energy\", \"Timestamp\": \"1.57818048E9\", \"Link\": \"https://www.nasdaq.com/articles/why-your-2020-resolution-should-be-to-buy-more-energy-stocks-2020-01-04\"}], \"id\":\"3313c105-ef38-4406-8886-475c9acfc760\", \"next\":\"ea28f609-3040-4ea2-b43c-dbb1bf94dd3d\"}'\n"
     ]
    }
   ],
   "source": [
    "r = redis.StrictRedis(host = 'redis-store', port = 6379)\n",
    "print(r.get('LatestNews'))"
   ]
  },
  {
   "cell_type": "code",
   "execution_count": 60,
   "metadata": {},
   "outputs": [
    {
     "data": {
      "text/plain": [
       "[['{\"Summary\":\"A California bankruptcy court has sided with electric utility PG&E in its fight with bondholders over the interest rate that it must pay on its debts while under bankruptcy court protection.\",\"Title\":\"Bankruptcy Court Rules Against PG&E Bondholders in Interest-Rate Fight\",\"Link\":\"https://www.wsj.com/articles/pg-e-bankruptcy-court-rules-against-bondholders-in-interest-rate-fight-11577829961\",\"Timestamp\":\"1.57789242E9\"}',\n",
       "  '{\"Summary\":\"A California bankruptcy court has sided with electric utility PG&E in its fight with bondholders over the interest rate that it must pay on its debts while under bankruptcy court protection.\",\"Title\":\"Bankruptcy Court Rules Against PG&E Bondholders in Interest-Rate Fight\",\"Link\":\"https://www.wsj.com/articles/pg-e-bankruptcy-court-rules-against-bondholders-in-interest-rate-fight-11577829961\",\"Timestamp\":\"1.57789242E9\"}',\n",
       "  '{\"Summary\":\"When unemployment goes down, inflation picks up, and vice versa. That has been a central tenet of economics for the past 60 years\\\\u2014but that trade-off hasn\\\\u2019t been behaving the way it is supposed to lately.\",\"Title\":\"Jobs and Inflation: The Great Trade-Off, Demystified\",\"Link\":\"https://www.wsj.com/articles/jobs-and-inflation-the-great-trade-off-demystified-11577890801?mod=pls_whats_news_us_business_f\",\"Timestamp\":\"1.5778908E9\"}',\n",
       "  '{\"Summary\":\"When unemployment goes down, inflation picks up, and vice versa. That has been a central tenet of economics for the past 60 years\\\\u2014but that trade-off hasn\\\\u2019t been behaving the way it is supposed to lately.\",\"Title\":\"Jobs and Inflation: The Great Trade-Off, Demystified\",\"Link\":\"https://www.wsj.com/articles/jobs-and-inflation-the-great-trade-off-demystified-11577890801\",\"Timestamp\":\"1.5778908E9\"}',\n",
       "  '{\"Summary\":\"When unemployment goes down, inflation picks up, and vice versa. That has been a central tenet of economics for the past 60 years\\\\u2014but that trade-off hasn\\\\u2019t been behaving the way it is supposed to lately.\",\"Title\":\"Jobs and Inflation: The Great Trade-Off, Demystified\",\"Link\":\"https://www.wsj.com/articles/jobs-and-inflation-the-great-trade-off-demystified-11577890801?mod=pls_whats_news_us_business_f\",\"Timestamp\":\"1.5778908E9\"}',\n",
       "  '{\"Summary\":\"When unemployment goes down, inflation picks up, and vice versa. That has been a central tenet of economics for the past 60 years\\\\u2014but that trade-off hasn\\\\u2019t been behaving the way it is supposed to lately.\",\"Title\":\"Jobs and Inflation: The Great Trade-Off, Demystified\",\"Link\":\"https://www.wsj.com/articles/jobs-and-inflation-the-great-trade-off-demystified-11577890801\",\"Timestamp\":\"1.5778908E9\"}',\n",
       "  '{\"Summary\":\"The bill is coming due for the shale industry\\\\u2019s price war with OPEC, with North American oil-and-gas companies having more than $200 billion of debt maturing over the next four years.\",\"Title\":\"Energy Producers Must Pay the Tab for Shale Drilling Bonanza\",\"Link\":\"https://www.wsj.com/articles/energy-producers-new-years-resolution-pay-the-tab-for-the-shale-drilling-bonanza-11577880001\",\"Timestamp\":\"1.57788E9\"}',\n",
       "  '{\"Summary\":\"The bill is coming due for the shale industry\\\\u2019s price war with OPEC, with North American oil-and-gas companies having more than $200 billion of debt maturing over the next four years.\",\"Title\":\"Energy Producers Must Pay the Tab for Shale Drilling Bonanza\",\"Link\":\"https://www.wsj.com/articles/energy-producers-new-years-resolution-pay-the-tab-for-the-shale-drilling-bonanza-11577880001\",\"Timestamp\":\"1.57788E9\"}',\n",
       "  '{\"Summary\":\"After its best year ever, Amtrak must still convince its owner\\\\u2014the U.S. government\\\\u2014that it is running in the right direction. Some lawmakers say the railroad\\\\u2019s pursuit of profitability has caused its overall service to suffer.\",\"Title\":\"Surging Amtrak Seeks Congress\\'s Green Light\",\"Link\":\"https://www.wsj.com/articles/surging-amtrak-seeks-green-light-from-congress-11577889706?mod=pls_whats_news_us_business_f\",\"Timestamp\":\"1.57788966E9\"}',\n",
       "  '{\"Summary\":\"After its best year ever, Amtrak must still convince its owner\\\\u2014the U.S. government\\\\u2014that it is running in the right direction. Some lawmakers say the railroad\\\\u2019s pursuit of profitability has caused its overall service to suffer.\",\"Title\":\"Surging Amtrak Seeks Congress\\'s Green Light\",\"Link\":\"https://www.wsj.com/articles/surging-amtrak-seeks-green-light-from-congress-11577889706?mod=pls_whats_news_us_business_f\",\"Timestamp\":\"1.57788966E9\"}',\n",
       "  '{\"Summary\":\"In the mid-1970s, Chuck Peddle saw a need for cheaper electronics to make personal computers affordable. He led a team that produced a microprocessor for $25. Apple and other computer makers rushed to buy it.\",\"Title\":\"Chuck Peddle\\'s $25 Microprocessor Ignited Computer Market\",\"Link\":\"https://www.wsj.com/articles/chuck-peddles-25-microprocessor-ignited-computer-market-11577883600?mod=pls_whats_news_us_business_f\",\"Timestamp\":\"1.5778836E9\"}',\n",
       "  '{\"Summary\":\"In the mid-1970s, Chuck Peddle saw a need for cheaper electronics to make personal computers affordable. He led a team that produced a microprocessor for $25. Apple and other computer makers rushed to buy it.\",\"Title\":\"Chuck Peddle\\'s $25 Microprocessor Ignited Computer Market\",\"Link\":\"https://www.wsj.com/articles/chuck-peddles-25-microprocessor-ignited-computer-market-11577883600?mod=pls_whats_news_us_business_f\",\"Timestamp\":\"1.5778836E9\"}',\n",
       "  '{\"Summary\":\"Chinese officials kicked off the new year\\\\u2014one that is expected to present new challenges for the world\\\\u2019s second-largest economy\\\\u2014by signaling a tilt toward easier money.\",\"Title\":\"China\\'s Monetary Policy Eases Into the New Year\",\"Link\":\"https://www.wsj.com/articles/chinas-monetary-policy-eases-into-the-new-year-11577877962?mod=pls_whats_news_us_business_f\",\"Timestamp\":\"1.57787796E9\"}',\n",
       "  '{\"Summary\":\"Chinese officials kicked off the new year\\\\u2014one that is expected to present new challenges for the world\\\\u2019s second-largest economy\\\\u2014by signaling a tilt toward easier money.\",\"Title\":\"China\\'s Monetary Policy Eases Into the New Year\",\"Link\":\"https://www.wsj.com/articles/chinas-monetary-policy-eases-into-the-new-year-11577877962?mod=pls_whats_news_us_business_f\",\"Timestamp\":\"1.57787796E9\"}',\n",
       "  '{\"Summary\":\"A record-long U.S. bull market hasn\\\\u2019t stopped investors from asking: Is Japanification coming this way, too?\",\"Title\":\"Lessons From Japan\\'s \\'Lost Decades\\'\",\"Link\":\"https://www.wsj.com/articles/lessons-from-japans-lost-decades-11577874601\",\"Timestamp\":\"1.5778746E9\"}',\n",
       "  '{\"Summary\":\"A record-long U.S. bull market hasn\\\\u2019t stopped investors from asking: Is Japanification coming this way, too?\",\"Title\":\"Lessons From Japan\\'s \\'Lost Decades\\'\",\"Link\":\"https://www.wsj.com/articles/lessons-from-japans-lost-decades-11577874601\",\"Timestamp\":\"1.5778746E9\"}',\n",
       "  '{\"Summary\":\"Boeing is increasingly committed to transferring more flight control from pilots to computers after the two fatal crashes of its 737 MAX aircraft.\",\"Title\":\"MAX Crashes Strengthen Resolve of Boeing to Automate Flight\",\"Link\":\"https://www.wsj.com/articles/max-crashes-strengthen-resolve-of-boeing-to-automate-flight-11577816304?mod=pls_whats_news_us_business_f\",\"Timestamp\":\"1.5778308E9\"}',\n",
       "  '{\"Summary\":\"Boeing is increasingly committed to transferring more flight control from pilots to computers after the two fatal crashes of its 737 MAX aircraft.\",\"Title\":\"MAX Crashes Strengthen Resolve of Boeing to Automate Flight\",\"Link\":\"https://www.wsj.com/articles/max-crashes-strengthen-resolve-of-boeing-to-automate-flight-11577816304?mod=pls_whats_news_us_business_f\",\"Timestamp\":\"1.5778308E9\"}',\n",
       "  '{\"Summary\":\"Bitcoin\\\\u2019s price rebounded sharply in 2019, but by other measures it was a less bullish year.\",\"Title\":\"Bitcoin Rebounded in 2019, but Challenges Loom\",\"Link\":\"https://www.wsj.com/articles/bitcoin-rebounded-in-2019-but-challenges-loom-11577828486\",\"Timestamp\":\"1.57782846E9\"}',\n",
       "  '{\"Summary\":\"Bitcoin\\\\u2019s price rebounded sharply in 2019, but by other measures it was a less bullish year.\",\"Title\":\"Bitcoin Rebounded in 2019, but Challenges Loom\",\"Link\":\"https://www.wsj.com/articles/bitcoin-rebounded-in-2019-but-challenges-loom-11577828486\",\"Timestamp\":\"1.57782846E9\"}',\n",
       "  '{\"Summary\":\"Gig economy companies like Uber and Lyft may or may not win their legal challenge to California\\\\u2019s ambitious new law. Their investors still could use the additional clarity\\\\u2014however it goes.\",\"Title\":\"Gig Companies Need Their Day in Court\",\"Link\":\"https://www.wsj.com/articles/gig-companies-need-their-day-in-court-11577817702\",\"Timestamp\":\"1.57782822E9\"}',\n",
       "  '{\"Summary\":\"Gig economy companies like Uber and Lyft may or may not win their legal challenge to California\\\\u2019s ambitious new law. Their investors still could use the additional clarity\\\\u2014however it goes.\",\"Title\":\"Gig Companies Need Their Day in Court\",\"Link\":\"https://www.wsj.com/articles/gig-companies-need-their-day-in-court-11577817702\",\"Timestamp\":\"1.57782822E9\"}'],\n",
       " ['{\"Summary\":\"The phrase\\\\xa0\"digital transformation\" has been casually tossed around the business world for a few years but has recently become quite the buzz term. Its use is on the rise, and some TV ads have started to feature it, so chances are even the most casual followers of business and\",\"Title\":\"How Businesses (and You) Should Invest in the \"Digital Transformation\" Movement\",\"Link\":\"https://www.nasdaq.com/articles/how-businesses-and-you-should-invest-in-the-digital-transformation-movement-2020-01-04\",\"Timestamp\":\"1.5781755E9\"}',\n",
       "  '{\"Summary\":\"Everyone knows that Ford Motor Company (NYSE: F) makes trucks, and Tesla (NASDAQ: TSLA) makes electric vehicles. But Rivian Automotive? What the heck is that?\",\"Title\":\"\"Tesla Killer\" Rivian Wins $1.3 Billion Investment\",\"Link\":\"https://www.nasdaq.com/articles/tesla-killer-rivian-wins-%241.3-billion-investment-2020-01-04\",\"Timestamp\":\"1.57817232E9\"}',\n",
       "  '{\"Summary\":\"Thanks to a nearly 30% stock market rally in 2019, last year was a hard one for investors looking for obvious values. The few declines that did occur during the year were minor, and most stocks joined the broader market in rallying into 2020.\",\"Title\":\"These 3 Stocks Are on After-Christmas Sale\",\"Link\":\"https://www.nasdaq.com/articles/these-3-stocks-are-on-after-christmas-sale-2020-01-04\",\"Timestamp\":\"1.57817202E9\"}',\n",
       "  '{\"Summary\":\"Choosing between a stock that has a lot of upside and one that offers stability can be a difficult decision for investors, and it could make a significant impact on overall returns. Cara Therapeutics (NASDAQ: CARA) and Fresenius Medical Care AG & Co. (NYSE: FMS) are two comp\",\"Title\":\"Better Buy: Cara Therapeutics vs. Fresenius\",\"Link\":\"https://www.nasdaq.com/articles/better-buy%3A-cara-therapeutics-vs.-fresenius-2020-01-04\",\"Timestamp\":\"1.5781698E9\"}',\n",
       "  '{\"Summary\":\"Shareholders scanning the horizon for one particular competitor that threatens Amazon.com\\'s (NASDAQ: AMZN) dominance of the e-commerce market can call off their search. Walmart (NYSE: WMT) was its most plausible problem, and while the world\\'s biggest brick-and-mortar retailer ha\",\"Title\":\"Amazon\\'s Biggest Threat Isn\\'t a Huge Competitor but a Collective\",\"Link\":\"https://www.nasdaq.com/articles/amazons-biggest-threat-isnt-a-huge-competitor-but-a-collective-2020-01-04\",\"Timestamp\":\"1.57816986E9\"}',\n",
       "  '{\"Summary\":\"Apple (NASDAQ: AAPL) stock\\'s big gain recently will soon be put to the test. The tech giant just put a date to its fiscal first-quarter earnings release: Jan. 28.\",\"Title\":\"Mark Your Calendar for Apple\\'s Earnings\",\"Link\":\"https://www.nasdaq.com/articles/mark-your-calendar-for-apples-earnings-2020-01-04\",\"Timestamp\":\"1.57816986E9\"}',\n",
       "  '{\"Summary\":\"AT&T (NYSE: T) has paid shareholders a dividend since 1984. The amount of that payout has varied greatly, but the company has not skipped a quarter in the entire history of its dividend program.\",\"Title\":\"How Safe Are AT&T and Its Dividend?\",\"Link\":\"https://www.nasdaq.com/articles/how-safe-are-att-and-its-dividend-2020-01-04\",\"Timestamp\":\"1.57816848E9\"}',\n",
       "  '{\"Summary\":\"State officials offered Amazon almost a billion dollars more of incentives than was previously known to win its second-headquarters contest and were even prepared to pay part of some employees\\\\u2019 salaries if the tech company developed a campus in New York.\",\"Title\":\"New York Dangled Extra Incentives in Initial Bid to Land Amazon HQ2\",\"Link\":\"https://www.wsj.com/articles/new-york-dangled-extra-incentives-in-initial-bid-to-lure-amazon-hq2-11578153600?mod=pls_whats_news_us_business_f\",\"Timestamp\":\"1.5781536E9\"}',\n",
       "  '{\"Summary\":\"Advanced Micro Devices, Inc. (NASDAQ: AMD ) shares, which had a stellar two-year run , are poised to experience some momentum next week, as the chip maker is set to present at the Consumer Technology Association\\'s ...\",\"Title\":\"What To Expect From AMD At CES 2020\",\"Link\":\"https://finance.yahoo.com/news/expect-amd-ces-2020-143858718.html\",\"Timestamp\":\"1.578148738E9\"}',\n",
       "  '{\"Summary\":\"The flagship Shanghai Composite has fallen 6.9% from Dec. 31, 2009 through Tuesday\\\\u2019s close, making it one of the rare indexes on pace to finish the 2010s in the red.\",\"Title\":\"It Was a Lost Decade for China\\'s Stock Market, but Investors Bet on Better Times Ahead\",\"Link\":\"https://www.wsj.com/articles/it-was-a-lost-decade-for-chinas-stock-market-but-investors-bet-on-better-times-ahead-11578133803\",\"Timestamp\":\"1.5781338E9\"}',\n",
       "  '{\"Summary\":\"The tech giant is under attack as Microsoft and other rivals try to capture a bigger slice of the $266 billion cloud-computing market.\",\"Title\":\"Amazon Has Long Ruled the Cloud. Now It Must Fend Off Rivals.\",\"Link\":\"https://www.wsj.com/articles/amazon-has-long-ruled-the-cloud-now-it-must-fend-off-rivals-11578114008?mod=pls_whats_news_us_business_f\",\"Timestamp\":\"1.578114E9\"}',\n",
       "  '{\"Summary\":\"Two years after Trump\\\\u2019s tax cuts, a deep dive into what happened to jobs, tax revenue, corporate profits and investment.\",\"Title\":\"Did the U.S. Tax Overhaul Do What It Promised?\",\"Link\":\"https://www.wsj.com/articles/did-the-u-s-tax-overhaul-do-what-it-promised-11578114001?mod=pls_whats_news_us_business_f\",\"Timestamp\":\"1.578114E9\"}'],\n",
       " ['{\"Summary\":\"Some workers killed on the job aren\\\\u2019t counted in fatality records, making the industry appear safer than it is. \\\\u201cThere is a massive statistical gap on just how dangerous mining is.\\\\u201d\",\"Title\":\"The Hidden Deaths of Mining\",\"Link\":\"https://www.wsj.com/articles/the-hidden-deaths-of-mining-11577825555?mod=pls_whats_news_us_business_f\",\"Timestamp\":\"1.57782552E9\"}',\n",
       "  '{\"Summary\":\"Some workers killed on the job aren\\\\u2019t counted in fatality records, making the industry appear safer than it is. \\\\u201cThere is a massive statistical gap on just how dangerous mining is.\\\\u201d\",\"Title\":\"The Hidden Deaths of Mining\",\"Link\":\"https://www.wsj.com/articles/the-hidden-deaths-of-mining-11577825555?mod=pls_whats_news_us_business_f\",\"Timestamp\":\"1.57782552E9\"}',\n",
       "  '{\"Summary\":\"Chinese EV maker needs a rescue package Continue reading...\",\"Title\":\"NIO Is Rapidly Running Out of Options\",\"Link\":\"https://finance.yahoo.com/news/nio-rapidly-running-options-172124958.html\",\"Timestamp\":\"1.57782352E9\"}',\n",
       "  '{\"Summary\":\"Chinese EV maker needs a rescue package Continue reading...\",\"Title\":\"NIO Is Rapidly Running Out of Options\",\"Link\":\"https://finance.yahoo.com/news/nio-rapidly-running-options-172124958.html\",\"Timestamp\":\"1.57782352E9\"}',\n",
       "  '{\"Summary\":\"Commodities fell in quiet trading Tuesday but still closed out December with outsize gains, highlighting how a brighter view of the world economy is supporting riskier investments entering 2020.\",\"Title\":\"Commodities Fall on Last Day of Strong December\",\"Link\":\"https://www.wsj.com/articles/commodities-fall-on-last-day-of-strong-december-11577806662\",\"Timestamp\":\"1.57782264E9\"}',\n",
       "  '{\"Summary\":\"Commodities fell in quiet trading Tuesday but still closed out December with outsize gains, highlighting how a brighter view of the world economy is supporting riskier investments entering 2020.\",\"Title\":\"Commodities Fall on Last Day of Strong December\",\"Link\":\"https://www.wsj.com/articles/commodities-fall-on-last-day-of-strong-december-11577806662\",\"Timestamp\":\"1.57782264E9\"}',\n",
       "  '{\"Summary\":\"President Trump said he would sign the phase-one trade deal with China on Jan. 15 and will later travel to Beijing for talks on a broader pact.\",\"Title\":\"Trump Says He Will Sign Phase-One Trade Deal With China on Jan. 15\",\"Link\":\"https://www.wsj.com/articles/trump-says-he-will-sign-phase-one-trade-deal-with-china-on-jan-15-11577802332?mod=pls_whats_news_us_business_f\",\"Timestamp\":\"1.57781994E9\"}',\n",
       "  '{\"Summary\":\"President Trump said he would sign the phase-one trade deal with China on Jan. 15 and will later travel to Beijing for talks on a broader pact.\",\"Title\":\"Trump Says He Will Sign Phase-One Trade Deal With China on Jan. 15\",\"Link\":\"https://www.wsj.com/articles/trump-says-he-will-sign-phase-one-trade-deal-with-china-on-jan-15-11577802332?mod=pls_whats_news_us_business_f\",\"Timestamp\":\"1.57781994E9\"}',\n",
       "  '{\"Summary\":\"Allaying once-strong fears of heavy-duty money-market volatility at the end of the year, Wall Street\\\\u2019s biggest banks once again sought far less liquidity from the Federal Reserve Bank of New York than the institution was willing to provide.\",\"Title\":\"Money Markets Cruise to End of Year With Light Demand for Fed Money\",\"Link\":\"https://www.wsj.com/articles/money-markets-cruise-to-end-of-year-with-light-demand-for-fed-money-11577806719\",\"Timestamp\":\"1.57781916E9\"}',\n",
       "  '{\"Summary\":\"Allaying once-strong fears of heavy-duty money-market volatility at the end of the year, Wall Street\\\\u2019s biggest banks once again sought far less liquidity from the Federal Reserve Bank of New York than the institution was willing to provide.\",\"Title\":\"Money Markets Cruise to End of Year With Light Demand for Fed Money\",\"Link\":\"https://www.wsj.com/articles/money-markets-cruise-to-end-of-year-with-light-demand-for-fed-money-11577806719\",\"Timestamp\":\"1.57781916E9\"}',\n",
       "  '{\"Summary\":\"When Melinta Therapeutics announced it had filed for bankruptcy protection last Friday, some investors were caught off guard. They shouldn\\\\u2019t have been.\",\"Title\":\"This Biotech Blowup was Foretold\",\"Link\":\"https://www.wsj.com/articles/this-biotech-blowup-was-foretold-11577810963\",\"Timestamp\":\"1.57781094E9\"}',\n",
       "  '{\"Summary\":\"When Melinta Therapeutics announced it had filed for bankruptcy protection last Friday, some investors were caught off guard. They shouldn\\\\u2019t have been.\",\"Title\":\"This Biotech Blowup was Foretold\",\"Link\":\"https://www.wsj.com/articles/this-biotech-blowup-was-foretold-11577810963\",\"Timestamp\":\"1.57781094E9\"}',\n",
       "  '{\"Summary\":\"Starting this week, Tesla loses a U.S. tax credit that effectively lowered the price of its vehicles and helped build interest in fledgling electric cars. Growth for the Silicon Valley auto maker increasingly looks tied to China, where this week it delivered the first of its locally made Model 3 compact cars.\",\"Title\":\"Tesla Turns to China With U.S. Tax Credit Ending\",\"Link\":\"https://www.wsj.com/articles/tesla-turns-to-china-with-u-s-tax-credit-ending-11577810430?mod=pls_whats_news_us_business_f\",\"Timestamp\":\"1.5778104E9\"}',\n",
       "  '{\"Summary\":\"Starting this week, Tesla loses a U.S. tax credit that effectively lowered the price of its vehicles and helped build interest in fledgling electric cars. Growth for the Silicon Valley auto maker increasingly looks tied to China, where this week it delivered the first of its locally made Model 3 compact cars.\",\"Title\":\"Tesla Turns to China With U.S. Tax Credit Ending\",\"Link\":\"https://www.wsj.com/articles/tesla-turns-to-china-with-u-s-tax-credit-ending-11577810430?mod=pls_whats_news_us_business_f\",\"Timestamp\":\"1.5778104E9\"}',\n",
       "  '{\"Summary\":\"Asian economies with large manufacturing sectors, including South Korea and Taiwan, find themselves bound to China\\\\u2019s real economic cycle. These countries must get comfortable using fiscal and monetary policy to fight the trend, or else effectively allow their countries\\\\u2019 economic policy to be set in Beijing\",\"Title\":\"Asian Economies Must Brace for Chill Wind From China\",\"Link\":\"https://www.wsj.com/articles/asian-economies-must-brace-for-chill-wind-from-china-11577810045\",\"Timestamp\":\"1.57781004E9\"}',\n",
       "  '{\"Summary\":\"Asian economies with large manufacturing sectors, including South Korea and Taiwan, find themselves bound to China\\\\u2019s real economic cycle. These countries must get comfortable using fiscal and monetary policy to fight the trend, or else effectively allow their countries\\\\u2019 economic policy to be set in Beijing\",\"Title\":\"Asian Economies Must Brace for Chill Wind From China\",\"Link\":\"https://www.wsj.com/articles/asian-economies-must-brace-for-chill-wind-from-china-11577810045\",\"Timestamp\":\"1.57781004E9\"}',\n",
       "  '{\"Summary\":\"Vanguard\\'s ETFs provide diversification at a low cost. Vanguard, the well-known index fund investing powerhouse, premiered the first index fund in the 1970s, with the launch of the First Index Investment ...\",\"Title\":\"10 Best Vanguard ETFs to Buy\",\"Link\":\"https://finance.yahoo.com/news/10-best-vanguard-etfs-buy-162828436.html\",\"Timestamp\":\"1.577809708E9\"}',\n",
       "  '{\"Summary\":\"These provisions could help you save more.\",\"Title\":\"401(k) changes coming in 2020\",\"Link\":\"https://finance.yahoo.com/news/401-k-changes-coming-2020-151537542.html\",\"Timestamp\":\"1.577809259E9\"}',\n",
       "  '{\"Summary\":\"These provisions could help you save more.\",\"Title\":\"401(k) changes coming in 2020\",\"Link\":\"https://finance.yahoo.com/news/401-k-changes-coming-2020-151537542.html\",\"Timestamp\":\"1.577809259E9\"}'],\n",
       " ['{\"Summary\":\"As the saying goes, there are many possible reasons for an insider to sell a stock, but only one reason to buy \\\\u2014 they expect to make money. So let\\'s look at two noteworthy recent insider buys.\",\"Title\":\"Thursday 1/2 Insider Buying Report: CNFR, OFC\",\"Link\":\"https://www.nasdaq.com/articles/thursday-1-2-insider-buying-report%3A-cnfr-ofc-2020-01-02\",\"Timestamp\":\"1.577979174E9\"}',\n",
       "  '{\"Summary\":\"Investors in Kilroy Realty Corp (Symbol: KRC) saw new options begin trading this week, for the August 21st expiration.  One of the key data points that goes into the price an option buyer is willing to pay, is the time value, so with 232 days until expiration the newly trading\",\"Title\":\"First Week of August 21st Options Trading For Kilroy Realty (KRC)\",\"Link\":\"https://www.nasdaq.com/articles/first-week-of-august-21st-options-trading-for-kilroy-realty-krc-2020-01-02\",\"Timestamp\":\"1.577979148E9\"}',\n",
       "  '{\"Summary\":\"The new year is a time for thinking big. It is when investors tend to set themes for the year, but this year, the biggest influence on the stock market may not be any of the things that seem obvious right now, such as the Fed or the 2020 election.\",\"Title\":\"The Biggest Influence on Stocks in 2020 May Not Be What You Think\",\"Link\":\"https://www.nasdaq.com/articles/the-biggest-influence-on-stocks-in-2020-may-not-be-what-you-think-2020-01-02\",\"Timestamp\":\"1.577979092E9\"}',\n",
       "  '{\"Summary\":\"In early trading on Thursday, shares of Trip.com Group topped the list of the day\\'s best performing components of the Nasdaq 100 index, trading up 9.6%. Year to date, Trip.com Group registers a 9.6% gain.\",\"Title\":\"Nasdaq 100 Movers: SGEN, TCOM\",\"Link\":\"https://www.nasdaq.com/articles/nasdaq-100-movers%3A-sgen-tcom-2020-01-02\",\"Timestamp\":\"1.577979081E9\"}',\n",
       "  '{\"Summary\":\"Retirement is a pleasant prospect to look forward to, but if you go into it carelessly, you may wind up miserable and cash-strapped rather than laid-back and content. To give yourself a better chance of landing in the latter scenario rather than the former, you\\'ll want to follow\",\"Title\":\"4 Retirement Planning Rules to Live By\",\"Link\":\"https://www.nasdaq.com/articles/4-retirement-planning-rules-to-live-by-2020-01-02\",\"Timestamp\":\"1.57797906E9\"}',\n",
       "  '{\"Summary\":\"Activity in Mexico\\'s manufacturing sector fell to a new series low in December on the back a challenging economic landscape, weak domestic demand and an unfavorable trade climate, a survey showed on Thursday.\",\"Title\":\"Mexico manufacturing goes from bad to worse, hits new low\",\"Link\":\"https://www.nasdaq.com/articles/mexico-manufacturing-goes-from-bad-to-worse-hits-new-low-2020-01-02\",\"Timestamp\":\"1.577979011E9\"}',\n",
       "  '{\"Summary\":\"New Year, new you, new sources of potential income to pore over! The changing of the calendar offers an opportunity for income-seeking investors to find attractive or overlooked dividend stocks to add to their portfolios.\",\"Title\":\"5 High-Yield Dividend Stocks to Make You Richer in 2020\",\"Link\":\"https://www.nasdaq.com/articles/5-high-yield-dividend-stocks-to-make-you-richer-in-2020-2020-01-02\",\"Timestamp\":\"1.57797888E9\"}',\n",
       "  '{\"Summary\":\"Wall Street\\'s major indexes began the new year at record levels on Thursday, as fresh stimulus from Beijing to prop up its slowing economy added to optimism fueled by easing trade tensions and an improving global outlook.\",\"Title\":\"Wall Street starts 2020 at record levels on China stimulus, trade hopes\",\"Link\":\"https://www.nasdaq.com/articles/wall-street-starts-2020-at-record-levels-on-china-stimulus-trade-hopes-2020-01-02\",\"Timestamp\":\"1.577978883E9\"}',\n",
       "  '{\"Summary\":\"Manufacturing in the U.S. and Asia showed signs of stabilization as 2019 drew to a close, although Europe\\\\u2019s industrial output offered few signs of a rebound.\",\"Title\":\"U.S., Asia\\'s Factory Output Stabilizes as Europe\\'s Slump Deepens\",\"Link\":\"https://www.wsj.com/articles/asias-factory-output-stabilizes-as-europes-slump-deepens-11577967462?mod=pls_whats_news_us_business_f\",\"Timestamp\":\"1.5779787E9\"}',\n",
       "  '{\"Summary\":\"Shares in Italian infrastructure group Atlantia fell 2% on Thursday after comments from the leader of the ruling 5 Star Movement added to signs the government could revoke the licence for its lucrative motorway concession.\",\"Title\":\"Atlantia shares slide on uncertainty over Italy motorway concession\",\"Link\":\"https://www.nasdaq.com/articles/atlantia-shares-slide-on-uncertainty-over-italy-motorway-concession-2020-01-02\",\"Timestamp\":\"1.577978576E9\"}'],\n",
       " ['{\"Summary\":\"U.S. government-bond prices climbed sharply after a U.S. airstrike killed an Iranian military leader and new data damped hopes for a recovery in the manufacturing sector.\",\"Title\":\"Treasurys Get Lift from Mideast Tensions, Weak Manufacturing Data\",\"Link\":\"https://www.wsj.com/articles/treasurys-get-lift-from-mideast-tensions-weak-manufacturing-data-11578068513\",\"Timestamp\":\"1.57808826E9\"}',\n",
       "  '{\"Summary\":\"Crude prices rose after a high-ranking Iranian military leader was killed in a U.S. airstrike, stoking traders\\\\u2019 fears of retaliatory attacks on Middle Eastern energy infrastructure.\",\"Title\":\"Soleimani Killing Raises Fears of Reprisals on Oil Infrastructure\",\"Link\":\"https://www.wsj.com/articles/soleimani-killing-raises-fears-of-reprisals-on-oil-infrastructure-11578052302\",\"Timestamp\":\"1.57808778E9\"}',\n",
       "  '{\"Summary\":\"Escalating tensions between the U.S. and Iran buffeted airlines, with concerns about higher fuel costs hitting share prices and several carriers suspending flights in the region.\",\"Title\":\"Airlines Contend With Fallout of U.S. Strike\",\"Link\":\"https://www.wsj.com/articles/airlines-contend-with-fallout-of-u-s-strike-11578087618?mod=pls_whats_news_us_business_f\",\"Timestamp\":\"1.5780876E9\"}',\n",
       "  '{\"Summary\":\"Shares of security and defense companies rose, defying the downward trend in the broader stock market, as some investors wagered that tensions between Iran and the U.S. would keep building after the recent airstrike.\",\"Title\":\"Defense Stocks Are a Rare Bright Spot in Friday\\'s Session\",\"Link\":\"https://www.wsj.com/articles/defense-stocks-are-a-rare-bright-spot-in-fridays-session-11578071023\",\"Timestamp\":\"1.57808718E9\"}',\n",
       "  '{\"Summary\":\"Global stocks faltered and oil prices advanced after a U.S. airstrike in Baghdad killed an Iranian military leader, recharging tensions in the oil-rich Middle East.\",\"Title\":\"Mideast Tensions Put Brakes on Global Stock Rally\",\"Link\":\"https://www.wsj.com/articles/geopolitical-tensions-put-brakes-on-global-stock-rally-11578038726\",\"Timestamp\":\"1.57808712E9\"}',\n",
       "  '{\"Summary\":\"Three top Federal Reserve officials who spoke on Friday saw no imminent change in short-term interest rates while shrugging off weak factory data and expressing caution about metastasizing tensions in the Middle East.\",\"Title\":\"Fed Officials Say Rate Policy in Right Place for Now, Downplay Factory Data\",\"Link\":\"https://www.wsj.com/articles/fed-officials-say-rate-policy-in-right-place-for-now-downplay-factory-data-11578086032?mod=pls_whats_news_us_business_f\",\"Timestamp\":\"1.57808598E9\"}',\n",
       "  '{\"Summary\":\"Despite what seems like an improving backdrop, manufacturers\\\\u2019 moods keep souring.\",\"Title\":\"Factories Are in a Funk\",\"Link\":\"https://www.wsj.com/articles/factories-are-in-a-funk-11578075507\",\"Timestamp\":\"1.57808352E9\"}',\n",
       "  '{\"Summary\":\"PewTrusts.org published a report on Thursday that found how many electric car charging stations there are in every state.\",\"Title\":\"These states have the most, least electric car charging stations: Report\",\"Link\":\"https://finance.yahoo.com/news/states-most-least-electric-car-202411046.html\",\"Timestamp\":\"1.578083051E9\"}',\n",
       "  '{\"Summary\":\"The postMeet the 2020 Imagine Cup Asia regional finalistsappeared first onStories.\",\"Title\":\"Meet the 2020 Imagine Cup Asia regional finalists\",\"Link\":\"https://techcommunity.microsoft.com/t5/student-developer-blog/meet-the-2020-imagine-cup-asia-regional-finalists/ba-p/1086465\",\"Timestamp\":\"1.578075514E9\"}',\n",
       "  '{\"Summary\":\"Ask Encore: A checklist for avoiding complacency after a red-hot year for stocks and nest eggs. Also, what the Secure Act means for your retirement plans.\",\"Title\":\"Tips if You\\'re Retiring in 2020\",\"Link\":\"https://www.wsj.com/articles/tips-if-youre-retiring-in-2020-11578071932\",\"Timestamp\":\"1.57807188E9\"}'],\n",
       " ['{\"Summary\":\"David Calhoun\\\\u2019s priorities when he takes the plane maker\\\\u2019s reins this month should include appeasing regulators, restarting production of the MAX and refocusing the corporate culture.\",\"Title\":\"Top 10 Tasks for Boeing\\'s New CEO\",\"Link\":\"https://www.wsj.com/articles/top-10-tasks-for-boeings-new-ceo-11578054175?mod=pls_whats_news_us_business_f\",\"Timestamp\":\"1.57805412E9\"}',\n",
       "  '{\"Summary\":\"David Calhoun\\\\u2019s priorities when he takes the plane maker\\\\u2019s reins this month should include appeasing regulators, restarting production of the MAX and refocusing the corporate culture.\",\"Title\":\"Top 10 Tasks for Boeing\\'s New CEO\",\"Link\":\"https://www.wsj.com/articles/top-10-tasks-for-boeings-new-ceo-11578054175\",\"Timestamp\":\"1.57805412E9\"}',\n",
       "  '{\"Summary\":\"A sharp economic slowdown, paired with growing political tension, make a bad mix for India\\\\u2019s relatively expensive equity market.\",\"Title\":\"Investors May Yet Sour on India\\'s Dual Crises\",\"Link\":\"https://www.wsj.com/articles/investors-may-yet-sour-on-indias-dual-crises-11578051183\",\"Timestamp\":\"1.57805118E9\"}',\n",
       "  '{\"Summary\":\"A high-profile project to connect the Shanghai and London stock exchanges has been thrown into question, but the financial pipeline\\\\u2019s extremely limited scope makes its future far less important than it might seem.\",\"Title\":\"The Shanghai-London Stock Link Is a Financial White Elephant\",\"Link\":\"https://www.wsj.com/articles/the-shanghai-london-stock-link-is-a-financial-white-elephant-11578050664\",\"Timestamp\":\"1.57805064E9\"}',\n",
       "  '{\"Summary\":\"U.S. stocks have been outperforming the rest of the world for decades. Those who think the trend will start to reverse this year could end up disappointed.\",\"Title\":\"Investors, Go Ahead and Put a Lot of Eggs in This Basket\",\"Link\":\"https://www.wsj.com/articles/u-s-a-u-s-a-why-americas-market-can-remain-a-world-champ-11578047584\",\"Timestamp\":\"1.57804758E9\"}',\n",
       "  '{\"Summary\":\"BuzzFeed has worked to stabilize itself after a tumultuous period last year in which it laid off 250 people following an annual loss that people familiar with the matter said was greater than $50 million.\",\"Title\":\"BuzzFeed Edges Closer to Profitability After Tough Year\",\"Link\":\"https://www.wsj.com/articles/buzzfeed-edges-closer-to-profitability-after-tough-year-11578045602?mod=pls_whats_news_us_business_f\",\"Timestamp\":\"1.5780456E9\"}',\n",
       "  '{\"Summary\":\"The price of oil surged after the killing of an Iranian military leader in a U.S.-authorized strike. The escalation in tensions between Washington and Tehran could threaten the world\\\\u2019s crude supplies.\",\"Title\":\"Oil Surges After U.S. Strike Kills Iranian Military Leader\",\"Link\":\"https://www.wsj.com/articles/oil-prices-surge-after-u-s-strike-kills-iranian-military-leader-11578022971\",\"Timestamp\":\"1.57802994E9\"}',\n",
       "  '{\"Summary\":\"(RTTNews) - Aeroflot was named World\\'s most on-time Airline in 2019. Cirium travel data for 2019 selected Japan\\'s All Nippon Airways or ANA to be the second best on-time service provider. Delta Air lines of U.S. is the third best in punctuality, based on analytics of travel data\",\"Title\":\"Aeroflot Named World\\'s Most On-time Airline In 2019\",\"Link\":\"https://www.nasdaq.com/articles/aeroflot-named-worlds-most-on-time-airline-in-2019-2020-01-02\",\"Timestamp\":\"1.577979776E9\"}',\n",
       "  '{\"Summary\":\"Jumia Technologies (NYSE: JMIA), the self-styled \\'Amazon of Africa,\\' has had a rough time since its IPO in April 2019. The Africa-focused e-commerce platform currently trades at a fraction of its earlier unicorn valuation as it continues to post massive losses. Even Jumia\\'s mana\",\"Title\":\"Jumia Faces an Uncertain Future as it Retreats from Key Markets\",\"Link\":\"https://www.nasdaq.com/articles/jumia-faces-an-uncertain-future-as-it-retreats-from-key-markets-2020-01-02\",\"Timestamp\":\"1.577979703E9\"}',\n",
       "  '{\"Summary\":\"A compilation of the most active stocks on U.S. exchanges. For faster updates on individual market-movers, Eikon users please use search string \"STXBZ US\" and Thomson One users please search \"RT/STXBZ US\".\",\"Title\":\"BUZZ-U.S. STOCKS ON THE MOVE-Tesla, Alibaba, United Airlines\",\"Link\":\"https://www.nasdaq.com/articles/buzz-u.s.-stocks-on-the-move-tesla-alibaba-united-airlines-2020-01-02\",\"Timestamp\":\"1.577979479E9\"}',\n",
       "  '{\"Summary\":\"Argentina\\'s new President Alberto Fernandez said on Thursday that a social pact with businesses and trade unions sent a \"strong message\" to creditors including the IMF that the economy must be allowed to grow before the country can pay its debts.\",\"Title\":\"Argentina\\'s Fernandez says social pact sends \\'strong message\\' to IMF, creditors\",\"Link\":\"https://www.nasdaq.com/articles/argentinas-fernandez-says-social-pact-sends-strong-message-to-imf-creditors-2020-01-02\",\"Timestamp\":\"1.577979472E9\"}'],\n",
       " ['{\"Summary\":\"It has been an annus horribilis for NIO and 2020 will be another tough year.\",\"Title\":\"Chinese Tesla Wannabe Needs a Financial Recharge\",\"Link\":\"https://www.wsj.com/articles/chinese-tesla-wannabe-needs-a-financial-recharge-11577783243\",\"Timestamp\":\"1.5777834E9\"}',\n",
       "  '{\"Summary\":\"It has been an annus horribilis for NIO and 2020 will be another tough year.\",\"Title\":\"Chinese Tesla Wannabe Needs a Financial Recharge\",\"Link\":\"https://www.wsj.com/articles/chinese-tesla-wannabe-needs-a-financial-recharge-11577783243\",\"Timestamp\":\"1.5777834E9\"}',\n",
       "  '{\"Summary\":\"Some European bond yields rose to their highest levels since summer as investors prepared their portfolios for a wave of new issuance in January.\",\"Title\":\"Bond \\'Supply Deluge\\' Sends European Yields Higher\",\"Link\":\"https://www.wsj.com/articles/bond-supply-deluge-sends-european-yields-higher-11577718978\",\"Timestamp\":\"1.5777447E9\"}',\n",
       "  '{\"Summary\":\"Some European bond yields rose to their highest levels since summer as investors prepared their portfolios for a wave of new issuance in January.\",\"Title\":\"Bond \\'Supply Deluge\\' Sends European Yields Higher\",\"Link\":\"https://www.wsj.com/articles/bond-supply-deluge-sends-european-yields-higher-11577718978\",\"Timestamp\":\"1.5777447E9\"}',\n",
       "  '{\"Summary\":\"Bond markets have hosted some of the most dramatic shifts in finance over the past decade. The Journal asked six investors what is in store for the next 10 years. They spoke of the return of inflation, a turn away from negative interest rates and the implications of new technology.\",\"Title\":\"After a Tumultuous Decade, Bond Investors See Rocky Times Ahead\",\"Link\":\"https://www.wsj.com/articles/after-a-tumultuous-decade-bond-investors-see-rocky-times-ahead-11577714400\",\"Timestamp\":\"1.57774386E9\"}',\n",
       "  '{\"Summary\":\"Bond markets have hosted some of the most dramatic shifts in finance over the past decade. The Journal asked six investors what is in store for the next 10 years. They spoke of the return of inflation, a turn away from negative interest rates and the implications of new technology.\",\"Title\":\"After a Tumultuous Decade, Bond Investors See Rocky Times Ahead\",\"Link\":\"https://www.wsj.com/articles/after-a-tumultuous-decade-bond-investors-see-rocky-times-ahead-11577714400\",\"Timestamp\":\"1.57774386E9\"}',\n",
       "  '{\"Summary\":\"The growth of online lending has been a boon to hair salons, bakeries and other small businesses that don\\\\u2019t qualify for bank credit. Yet this tech-enabled source of credit can mire some in debt they can\\\\u2019t repay, raising concern about inadequate regulation.\",\"Title\":\"Small Businesses Rush to Borrow Online, Sparking Fears of High Rates, Costly Terms\",\"Link\":\"https://www.wsj.com/articles/small-businesses-rush-to-borrow-online-sparking-fears-of-high-rates-costly-terms-11577734013?mod=pls_whats_news_us_business_f\",\"Timestamp\":\"1.57773396E9\"}',\n",
       "  '{\"Summary\":\"The growth of online lending has been a boon to hair salons, bakeries and other small businesses that don\\\\u2019t qualify for bank credit. Yet this tech-enabled source of credit can mire some in debt they can\\\\u2019t repay, raising concern about inadequate regulation.\",\"Title\":\"Small Businesses Rush to Borrow Online, Sparking Fears of High Rates, Costly Terms\",\"Link\":\"https://www.wsj.com/articles/small-businesses-rush-to-borrow-online-sparking-fears-of-high-rates-costly-terms-11577734013?mod=pls_whats_news_us_business_f\",\"Timestamp\":\"1.57773396E9\"}'],\n",
       " ['{\"Summary\":\"Turkish manufacturing activity contracted slightly for a third straight month in December, although output rose for a second month and factories expanded their purchasing in response, a business survey showed on Thursday.\",\"Title\":\"Turkish factory activity contracts slightly in Dec - PMI\",\"Link\":\"https://www.nasdaq.com/articles/turkish-factory-activity-contracts-slightly-in-dec-pmi-2020-01-02\",\"Timestamp\":\"1.577948458E9\"}',\n",
       "  '{\"Summary\":\"(RTTNews) - Shares of NRG Energy, Inc. (NRG) closed Tuesday\\'s trading 1.33% higher at $39.75. The stock has been trading in a range of $32.63 to $43.66 for the past one year.\",\"Title\":\"Stock Alert: Will NRG Energy Be Stronger In 2020?\",\"Link\":\"https://www.nasdaq.com/articles/stock-alert%3A-will-nrg-energy-be-stronger-in-2020-2020-01-02\",\"Timestamp\":\"1.577948393E9\"}',\n",
       "  '{\"Summary\":\"Tesla Inc will deliver a second batch of China-made Model 3 sedans to customers on Jan. 7 at an event at its Shanghai plant, a representative for the firm told Reuters on Thursday.\",\"Title\":\"Tesla says will deliver second batch of China-made Model 3s on Jan. 7\",\"Link\":\"https://www.nasdaq.com/articles/tesla-says-will-deliver-second-batch-of-china-made-model-3s-on-jan.-7-2020-01-02\",\"Timestamp\":\"1.577948028E9\"}',\n",
       "  '{\"Summary\":\"Most emerging Asian currencies began the year on the backfoot on Thursday amid wider uncertainties about U.S.-China trade progress while an earlier break of a key level in the Thai baht kept the Southeast Asian unit under pressure.\",\"Title\":\"EM ASIA FX-Most Asian units begin year on soft note amid trade doubts\",\"Link\":\"https://www.nasdaq.com/articles/em-asia-fx-most-asian-units-begin-year-on-soft-note-amid-trade-doubts-2020-01-02\",\"Timestamp\":\"1.577947904E9\"}',\n",
       "  '{\"Summary\":\"South Korea\\'s Hyundai Motor and affiliate Kia Motors expect their combined sales to rise 5% in 2020, after missing their annual target for five years in a row.\",\"Title\":\"Hyundai, Kia see 2020 sales rebound after missing target in 2019\",\"Link\":\"https://www.nasdaq.com/articles/hyundai-kia-see-2020-sales-rebound-after-missing-target-in-2019-2020-01-02\",\"Timestamp\":\"1.577947763E9\"}',\n",
       "  '{\"Summary\":\"HSBC is being drawn into Hong Kong\\'s political turmoil with protesters attacking some of its branches and graffiti daubed on the famous pair of lions that guard its city-centre headquarters.\",\"Title\":\"HSBC kicks off year with Hong Kong branches closed, vandalised\",\"Link\":\"https://www.nasdaq.com/articles/hsbc-kicks-off-year-with-hong-kong-branches-closed-vandalised-2020-01-02\",\"Timestamp\":\"1.577947652E9\"}',\n",
       "  '{\"Summary\":\"A Singapore opposition party said on Thursday it was prepared to legally challenge a government order to attach correction notices to its online posts, accusing the government of using a new fake news law to stymie political debate.\",\"Title\":\"Singapore opposition party says it is ready to challenge fake news notices in court\",\"Link\":\"https://www.nasdaq.com/articles/singapore-opposition-party-says-it-is-ready-to-challenge-fake-news-notices-in-court-2020\",\"Timestamp\":\"1.577947588E9\"}',\n",
       "  '{\"Summary\":\"Asian shares gained for the fourth successive month in December as appetite for regional shares improved after the U.S. and China agreed on a preliminary deal to end their 17-month long trade war.\",\"Title\":\"Asian shares outperform global peers in December, but yearly gains lag\",\"Link\":\"https://www.nasdaq.com/articles/asian-shares-outperform-global-peers-in-december-but-yearly-gains-lag-2020-01-02\",\"Timestamp\":\"1.577947281E9\"}',\n",
       "  '{\"Summary\":\"Asian shares kicked off 2020 on a strong note on Thursday, spurred by Chinese markets after Beijing eased monetary policy to support the slowing economy.\",\"Title\":\"GLOBAL MARKETS-Asian shares jump on China policy easing, trade deal hopes\",\"Link\":\"https://www.nasdaq.com/articles/global-markets-asian-shares-jump-on-china-policy-easing-trade-deal-hopes-2020-01-02\",\"Timestamp\":\"1.577947104E9\"}',\n",
       "  '{\"Summary\":\"(RTTNews) - The Australian stock market slipped into negative territory after a positive start on Thursday, the first trading day of 2020. Investor sentiment was bolstered by U.S. President Donald Trump\\'s announcement that the much-awaited phase one trade deal between the U.S. a\",\"Title\":\"Australian Market Drifts Lower\",\"Link\":\"https://www.nasdaq.com/articles/australian-market-drifts-lower-2020-01-01\",\"Timestamp\":\"1.577927076E9\"}'],\n",
       " ['{\"Summary\":\"The postCES 2020: Lenovo releases details on Creator series, gaming devices and NEC partnershipappeared first onStories.\",\"Title\":\"CES 2020: Lenovo releases details on Creator series, gaming devices and NEC partnership\",\"Link\":\"https://blogs.windows.com/windowsexperience/2020/01/03/ces-2020-lenovo-releases-details-on-creator-series-gaming-devices-and-nec-partnership/\",\"Timestamp\":\"1.578071232E9\"}',\n",
       "  '{\"Summary\":\"Zoom founder and CEO Eric Yuan weighs in on the immigration debate.\",\"Title\":\"Zoom founder: Immigrant tech CEOs show we should &apos;embrace&apos; immigrant talent\",\"Link\":\"https://finance.yahoo.com/news/zoom-founder-immigrant-tech-ceos-170442933.html\",\"Timestamp\":\"1.578071082E9\"}',\n",
       "  '{\"Summary\":\"Multiple factors make this an opportune time to buy into the stock Continue reading...\",\"Title\":\"Why I Like Royal Dutch Shell and Its 6.6% Dividend Yield\",\"Link\":\"https://finance.yahoo.com/news/why-royal-dutch-shell-6-164007376.html\",\"Timestamp\":\"1.578069607E9\"}',\n",
       "  '{\"Summary\":\"HSBC Holdings has suffered a backlash over an account closure in Hong Kong, with protesters vandalizing branches and cash machines, making it the latest multinational affected by social unrest and deepening political divides in the city.\",\"Title\":\"HSBC Grapples With Controversy in Hong Kong\",\"Link\":\"https://www.wsj.com/articles/hsbc-grapples-with-controversy-in-hong-kong-11578069413\",\"Timestamp\":\"1.57806936E9\"}',\n",
       "  '{\"Summary\":\"For her final article after three decades on the beat, Sue Shellenbarger looks at what\\\\u2019s changed and what hasn\\\\u2019t for women trying to manage office and home lives.\",\"Title\":\"The Challenges That Working Mothers Still Face\",\"Link\":\"https://www.wsj.com/articles/the-challenges-that-working-mothers-still-face-11578067249?mod=pls_whats_news_us_business_f\",\"Timestamp\":\"1.5780672E9\"}',\n",
       "  '{\"Summary\":\"Tesla is finally meeting its deadlines, and that\\\\u2019s welcome news for disruptors after a rough year\",\"Title\":\"Take Your Victory Lap, Elon Musk\",\"Link\":\"https://www.wsj.com/articles/take-your-victory-lap-elon-musk-11578067213?mod=pls_whats_news_us_business_f\",\"Timestamp\":\"1.5780672E9\"}',\n",
       "  '{\"Summary\":\"It is notable that in a banner period for stocks, by one measure stock analysts weren\\\\u2019t having nearly as good a year.\",\"Title\":\"Analyze This: Roaring Market But Less Research\",\"Link\":\"https://www.wsj.com/articles/analyze-this-roaring-market-but-less-research-11578066814\",\"Timestamp\":\"1.57806678E9\"}',\n",
       "  '{\"Summary\":\"Prices surged after the strike on Qassem Soleimani in anticipation of a response that would include disruptions to the flow of oil from the Middle East, but Iran\\\\u2019s revenge could also be negative for crude prices.\",\"Title\":\"Calculating the Impact of Iran\\'s Fury on the Price of Oil\",\"Link\":\"https://www.wsj.com/articles/pricing-in-irans-fury-for-oil-11578065337\",\"Timestamp\":\"1.57806528E9\"}',\n",
       "  '{\"Summary\":\"Exxon Mobil, Apple, McClatchy and Landec are among the companies with shares expected to trade actively in Friday\\\\u2019s session.\",\"Title\":\"Stocks to Watch: Exxon Mobil, Apple, McClatchy, Landec\",\"Link\":\"https://www.wsj.com/articles/stocks-to-watch-exxon-mobil-apple-mcclatchy-landec-duke-energy-11578046153\",\"Timestamp\":\"1.57805652E9\"}',\n",
       "  '{\"Summary\":\"The U.S.\\\\u2019s primary regulator of derivatives markets is clashing in court again with some of the nation\\\\u2019s biggest food companies in a case that could reveal the extent of the government\\\\u2019s power to go after market manipulation.\",\"Title\":\"CFTC Heads Back to Court Against Kraft and Mondelez\",\"Link\":\"https://www.wsj.com/articles/market-regulator-heads-back-to-court-against-kraft-and-mondelez-11578056400\",\"Timestamp\":\"1.5780564E9\"}',\n",
       "  '{\"Summary\":\"This wearable smart thermostat promises to make frigid environments\\\\u2014and overly warm ones, too\\\\u2014seem more comfortable.\",\"Title\":\"Freezing in the Office? This Bracelet Could Help\",\"Link\":\"https://www.wsj.com/articles/freezing-in-the-office-this-bracelet-could-help-11578054522?mod=pls_whats_news_us_business_f\",\"Timestamp\":\"1.57805448E9\"}'],\n",
       " ['{\"Summary\":\"Japanese and Turkish authorities have started the early stages of probes in both countries into the circumstances of former auto executive Carlos Ghosn\\\\u2019s flight from bail in Tokyo to Lebanon.\",\"Title\":\"Japanese, Turkish Prosecutors Begin Probes Into Ghosn\\'s Escape\",\"Link\":\"https://www.wsj.com/articles/days-after-ghosns-escape-japanese-authorities-check-his-house-11577962001?mod=pls_whats_news_us_business_f\",\"Timestamp\":\"1.57797036E9\"}',\n",
       "  '{\"Summary\":\"The executive who oversaw Vanguard Group\\\\u2019s expansion in China and recently served as head of Asia has left the world\\\\u2019s second-largest asset manager.\",\"Title\":\"Vanguard\\'s Asia Head Leaves After Leading China Push\",\"Link\":\"https://www.wsj.com/articles/vanguards-asia-head-leaves-investing-giant-after-leading-china-push-11577969213\",\"Timestamp\":\"1.57796916E9\"}',\n",
       "  '{\"Summary\":\"Investors aren\\\\u2019t yet rewarding big oil companies that are preparing for a greener future, but that could change.\",\"Title\":\"Is Oil the New Tobacco?\",\"Link\":\"https://www.wsj.com/articles/is-oil-the-new-tobacco-11577968480\",\"Timestamp\":\"1.57796844E9\"}',\n",
       "  '{\"Summary\":\"A cluster of recent bailouts of ailing European lenders shows how governments are getting around post-financial crisis rules meant to make sure investors and shareholders take losses as a condition of receiving taxpayer funds.\",\"Title\":\"Governments in Europe Find Workarounds to Bail Out Ailing Banks\",\"Link\":\"https://www.wsj.com/articles/governments-in-europe-find-workarounds-to-bail-out-ailing-banks-11577966400\",\"Timestamp\":\"1.5779664E9\"}',\n",
       "  '{\"Summary\":\"A change in loan-accounting rules may shift the focus from rates to credit for bank stocks, especially consumer lenders.\",\"Title\":\"For Banking Investors, Credit Is Due\",\"Link\":\"https://www.wsj.com/articles/for-banking-investors-credit-is-due-11577966401\",\"Timestamp\":\"1.5779664E9\"}',\n",
       "  '{\"Summary\":\"Fear of an economic decline topped the list of U.S. chief executives\\\\u2019 concerns going into 2020, according to a survey from the Conference Board.\",\"Title\":\"Recession Fears Rise for CEOs as Trade Concerns Linger\",\"Link\":\"https://www.wsj.com/articles/recession-rises-on-list-of-ceo-fears-for-2020-11577962921?mod=pls_whats_news_us_business_f\",\"Timestamp\":\"1.57796292E9\"}',\n",
       "  '{\"Summary\":\"Chinese smartphone maker Xiaomi Corp will invest more than 50 billion yuan ($7.18 billion) in artificial intelligence and fifth generation internet technologies over the next five years, as competition in the sector grows.\",\"Title\":\"Xiaomi to invest $7 billion in 5G, AI and IoT over next 5 years\",\"Link\":\"https://www.nasdaq.com/articles/xiaomi-to-invest-%247-billion-in-5g-ai-and-iot-over-next-5-years-2020-01-02\",\"Timestamp\":\"1.577950843E9\"}',\n",
       "  '{\"Summary\":\"(RTTNews) - Dutch supermarkets and eCommerce company Ahold Delhaize N.V. (ADRND.PK, AHODF.PK) announced Thursday that it has commenced the 1 billion euros share buyback program announced on December 4, The company expects to complete the program before the end of 2020.\",\"Title\":\"Ahold Delhaize Begins EUR 1 Bln Share Buyback Program - Quick Facts\",\"Link\":\"https://www.nasdaq.com/articles/ahold-delhaize-begins-eur-1-bln-share-buyback-program-quick-facts-2020-01-02\",\"Timestamp\":\"1.577949731E9\"}',\n",
       "  '{\"Summary\":\"South Africa\\'s rand firmed marginally on Thursday, with sentiment towards emerging markets broadly boosted by U.S. President Donald Trump\\'s announcement on the signing of a trade deal with China, and on higher commodity prices.\",\"Title\":\"South Africa\\'s rand firms slightly on trade deal optimism\",\"Link\":\"https://www.nasdaq.com/articles/south-africas-rand-firms-slightly-on-trade-deal-optimism-2020-01-02\",\"Timestamp\":\"1.577949623E9\"}',\n",
       "  '{\"Summary\":\"(RTTNews) - Hotel chain Marriott International is facing a $300,000 lawsuit for alleged discrimination by a black woman over no party policy.\",\"Title\":\"Marriott Faces $300K Discrimination Lawsuit\",\"Link\":\"https://www.nasdaq.com/articles/marriott-faces-%24300k-discrimination-lawsuit-2020-01-02\",\"Timestamp\":\"1.577949042E9\"}',\n",
       "  '{\"Summary\":\"The popularity of ETF investing has been going through the roof and it took about 20 years to reach this height. 2019 emerged to be another winning year for ETF inflows. Assets held by US listed ETFs have surged to over $4.4 trillion. Though the pace of rollout slackened a bit i\",\"Title\":\"9 Successful New ETFs of 2019\",\"Link\":\"https://www.nasdaq.com/articles/9-successful-new-etfs-of-2019-2020-01-02\",\"Timestamp\":\"1.5779484E9\"}',\n",
       "  '{\"Summary\":\"A stone\\'s throw from Nelson Mandela\\'s former home in South Africa\\'s Soweto township, Dumile Badela\\'s restaurant is now more hectic and lucrative than ever, thanks to Uber Eats, his hungriest customer yet.\",\"Title\":\"Uber Eats goes local to find its niche in South African food fight\",\"Link\":\"https://www.nasdaq.com/articles/uber-eats-goes-local-to-find-its-niche-in-south-african-food-fight-2020-01-02\",\"Timestamp\":\"1.5779484E9\"}'],\n",
       " ['{\"Summary\":\"Mexican central bank board member Gerardo Esquivel voted to cut the benchmark interest rate by 50 basis points at the bank\\'s Dec. 19 monetary policy meeting, minutes of that meeting showed on Thursday.\",\"Title\":\"Mexican central bank board member Esquivel voted for 50 basis point cut - minutes\",\"Link\":\"https://www.nasdaq.com/articles/mexican-central-bank-board-member-esquivel-voted-for-50-basis-point-cut-minutes-2020-01-02\",\"Timestamp\":\"1.577978436E9\"}',\n",
       "  '{\"Summary\":\"None\",\"Title\":\"S&P 500 Movers: LB, WDC\",\"Link\":\"https://www.nasdaq.com/articles/sp-500-movers%3A-lb-wdc-2020-01-02\",\"Timestamp\":\"1.57797829E9\"}',\n",
       "  '{\"Summary\":\"After navigating a quiet end to money-market trading in 2019\\\\u2014greased by a massive wave of central bank liquidity\\\\u2014the Federal Reserve Bank of New York injected a modest amount of money into financial markets.\",\"Title\":\"Fed Adds $56.72 Billion to Markets for Calm Start to 2020\",\"Link\":\"https://www.wsj.com/articles/fed-adds-56-72-billion-to-markets-for-calm-start-to-2020-11577978054\",\"Timestamp\":\"1.57797804E9\"}',\n",
       "  '{\"Summary\":\"Natural-gas prices fell on the first trading day of 2020, extending a monthslong slide with analysts expecting supply of the heating fuel to continue exceeding demand.\",\"Title\":\"Natural-Gas Slide Continues to Start 2020\",\"Link\":\"https://www.wsj.com/articles/natural-gas-slide-continues-to-start-2020-11577978039\",\"Timestamp\":\"1.57797798E9\"}',\n",
       "  '{\"Summary\":\"The postCES 2020: Dell introduces a smaller, thinner XPS 13 and a new Alienware gaming monitorappeared first onStories.\",\"Title\":\"CES 2020: Dell introduces a smaller, thinner XPS 13 and a new Alienware gaming monitor\",\"Link\":\"https://blogs.windows.com/windowsexperience/2020/01/02/ces-2020-dell-introduces-a-smaller-thinner-xps-13-and-a-new-alienware-gaming-monitor/\",\"Timestamp\":\"1.577977466E9\"}',\n",
       "  '{\"Summary\":\"The postCES 2020: Dell introduces a smaller, thinner XPS 13 and a new Alienware gaming monitorappeared first onStories.\",\"Title\":\"CES 2020: Dell introduces a smaller, thinner XPS 13 and a new Alienware gaming monitor\",\"Link\":\"https://blogs.windows.com/windowsexperience/2020/01/02/ces-2020-dell-introduces-a-smaller-thinner-xps-13-and-a-new-alienware-gaming-monitor/\",\"Timestamp\":\"1.577977466E9\"}',\n",
       "  '{\"Summary\":\"U.S. stocks rose, extending major indexes\\\\u2019 rally into the new year, after China\\\\u2019s central bank said it would take additional steps to reinvigorate the world\\\\u2019s second-biggest economy.\",\"Title\":\"Stocks Rally After Chinese Easing Move\",\"Link\":\"https://www.wsj.com/articles/global-stocks-launch-higher-after-chinese-easing-move-11577960257\",\"Timestamp\":\"1.5779769E9\"}',\n",
       "  '{\"Summary\":\"Beijing has halted a high-profile project letting Chinese companies list in London, people familiar with the matter said, in a move that could signal chillier financial relations with Britain.\",\"Title\":\"China Pauses U.K. Listings Project\",\"Link\":\"https://www.wsj.com/articles/china-pauses-u-k-listings-project-11577974419\",\"Timestamp\":\"1.57797582E9\"}',\n",
       "  '{\"Summary\":\"Economists of color say they have sounded the alarm about diversity issues in economics for decades, and the profession seems to be responding. However, they say there is still much more work to do.\",\"Title\":\"Economics Profession Turns Attention to its \\'Race Problem\\'\",\"Link\":\"https://www.wsj.com/articles/economics-profession-turns-attention-to-its-race-problem-11577974899?mod=pls_whats_news_us_business_f\",\"Timestamp\":\"1.57797486E9\"}',\n",
       "  '{\"Summary\":\"Investors are heading into this year still eager for municipal bonds after a 2019 buying binge supercharged returns.\",\"Title\":\"Muni-Bond Shopping Spree Shows No Sign of Stopping\",\"Link\":\"https://www.wsj.com/articles/muni-bond-shopping-spree-shows-no-sign-of-stopping-11577974201\",\"Timestamp\":\"1.5779742E9\"}',\n",
       "  '{\"Summary\":\"The postCES 2020: Samsung expands its computing portfolio with Galaxy Book Flex \\\\u03b1appeared first onStories.\",\"Title\":\"CES 2020: Samsung expands its computing portfolio with Galaxy Book Flex α\",\"Link\":\"https://blogs.windows.com/windowsexperience/2020/01/02/ces-2020-samsung-expands-its-computing-portfolio-with-galaxy-book-flex-α/\",\"Timestamp\":\"1.577974019E9\"}',\n",
       "  '{\"Summary\":\"The postCES 2020: Samsung expands its computing portfolio with Galaxy Book Flex \\\\u03b1appeared first onStories.\",\"Title\":\"CES 2020: Samsung expands its computing portfolio with Galaxy Book Flex α\",\"Link\":\"https://blogs.windows.com/windowsexperience/2020/01/02/ces-2020-samsung-expands-its-computing-portfolio-with-galaxy-book-flex-α/\",\"Timestamp\":\"1.577974019E9\"}'],\n",
       " ['{\"Summary\":\"Following is a list of recent corporate and policy announcements, as well as other news that might affect Chinese financial markets. Policy, government, sector news:\",\"Title\":\"China Stocks-Factors to watch on Thursday\",\"Link\":\"https://www.nasdaq.com/articles/china-stocks-factors-to-watch-on-thursday-2020-01-01\",\"Timestamp\":\"1.577924333E9\"}',\n",
       "  '{\"Summary\":\"The dollar started the new year where it left the old one, under pressure as investors wagered U.S. economic outperformance could be coming to an end as optimism on trade brightens the outlook for growth globally.\",\"Title\":\"Dollar starts new year with a hangover as others find cheer\",\"Link\":\"https://www.nasdaq.com/articles/dollar-starts-new-year-with-a-hangover-as-others-find-cheer-2020-01-01\",\"Timestamp\":\"1.577922492E9\"}',\n",
       "  '{\"Summary\":\"Australian home prices ended 2019 with the biggest quarterly rise in a decade, a remarkable return to boom from bust that promises to support consumer wealth and, perhaps, spending.\",\"Title\":\"Australian home prices end year with strongest gains since 2009\",\"Link\":\"https://www.nasdaq.com/articles/australian-home-prices-end-year-with-strongest-gains-since-2009-2020-01-01\",\"Timestamp\":\"1.5779196E9\"}',\n",
       "  '{\"Summary\":\"China\\'s central bank said on Wednesday it was cutting the amount of cash that all banks must hold as reserves, releasing around 800 billion yuan ($114.91 billion) in funds to shore up the slowing economy.\",\"Title\":\"China cuts banks\\' reserve ratios again, frees up $115 bln to spur economy\",\"Link\":\"https://www.nasdaq.com/articles/china-cuts-banks-reserve-ratios-again-frees-up-%24115-bln-to-spur-economy-2020-01-01-0\",\"Timestamp\":\"1.57791961E9\"}',\n",
       "  '{\"Summary\":\"The quality of care at hospitals acquired during a recent wave of deal making got worse or stayed the same, new research found, a blow to a frequently cited rationale for tie-ups.\",\"Title\":\"Hospitals Merged. Quality Didn\\'t Improve.\",\"Link\":\"https://www.wsj.com/articles/hospitals-merged-quality-didnt-improve-11577916000?mod=pls_whats_news_us_business_f\",\"Timestamp\":\"1.577916E9\"}',\n",
       "  '{\"Summary\":\"The quality of care at hospitals acquired during a recent wave of deal making got worse or stayed the same, new research found, a blow to a frequently cited rationale for tie-ups.\",\"Title\":\"Hospitals Merged. Quality Didn\\'t Improve.\",\"Link\":\"https://www.wsj.com/articles/hospitals-merged-quality-didnt-improve-11577916000?mod=pls_whats_news_us_business_f\",\"Timestamp\":\"1.577916E9\"}',\n",
       "  '{\"Summary\":\"Former National Basketball Association (NBA) Commissioner David Stern, who oversaw the explosive growth in the popularity of the game during his tenure, has died at the age of 77, the league said on Wednesday.\",\"Title\":\"NBA-Former Commissioner Stern dies at 77, made league \\'a truly global brand\\'\",\"Link\":\"https://www.nasdaq.com/articles/nba-former-commissioner-stern-dies-at-77-made-league-a-truly-global-brand-2020-01-01\",\"Timestamp\":\"1.577916858E9\"}',\n",
       "  '{\"Summary\":\"Stocks around the world closed out one of their best years over the past decade, defying money managers who began 2019 expecting the bull market to be upended by threats from the U.S.-China trade fight and a slowdown in growth.\",\"Title\":\"Bull Market Is Charging Into 2020\",\"Link\":\"https://www.wsj.com/articles/global-stocks-mixed-on-last-day-of-exceptional-year-11577787736\",\"Timestamp\":\"1.5779166E9\"}',\n",
       "  '{\"Summary\":\"Stocks around the world closed out one of their best years over the past decade, defying money managers who began 2019 expecting the bull market to be upended by threats from the U.S.-China trade fight and a slowdown in growth.\",\"Title\":\"Bull Market Is Charging Into 2020\",\"Link\":\"https://www.wsj.com/articles/global-stocks-mixed-on-last-day-of-exceptional-year-11577787736\",\"Timestamp\":\"1.5779166E9\"}',\n",
       "  '{\"Summary\":\"Carlos Ghosn\\\\u2019s escape to Lebanon from Japan followed weeks of planning by associates aimed at getting the former auto executive to a country they believed would provide a more friendly legal environment.\",\"Title\":\"Ghosn\\'s Escape From Japan Followed Months of Planning\",\"Link\":\"https://www.wsj.com/articles/ghosns-escape-followed-weeks-of-planning-11577827794?mod=pls_whats_news_us_business_f\",\"Timestamp\":\"1.57791612E9\"}',\n",
       "  '{\"Summary\":\"Carlos Ghosn\\\\u2019s escape to Lebanon from Japan followed weeks of planning by associates aimed at getting the former auto executive to a country they believed would provide a more friendly legal environment.\",\"Title\":\"Ghosn\\'s Escape From Japan Followed Months of Planning\",\"Link\":\"https://www.wsj.com/articles/ghosns-escape-followed-weeks-of-planning-11577827794?mod=pls_whats_news_us_business_f\",\"Timestamp\":\"1.57791612E9\"}',\n",
       "  '{\"Summary\":\"Australian shares are set to tumble at the open on Thursday, as energy stocks, hit by weaker oil prices, are likely to drag on the year\\'s first trading session.\",\"Title\":\"Australia shares set to fall on lower oil prices; NZ down\",\"Link\":\"https://www.nasdaq.com/articles/australia-shares-set-to-fall-on-lower-oil-prices-nz-down-2020-01-01\",\"Timestamp\":\"1.577913848E9\"}',\n",
       "  '{\"Summary\":\"Ajai Singh \\\\u201cSonny\\\\u201d Mehta, the fabled editor in chief of Alfred A. Knopf who published such Nobel Prize-winning authors as Kazuo Ishiguro and Toni Morrison, died Monday.\",\"Title\":\"\\'Sonny\\' Mehta, Editor in Chief of Book Publisher Knopf, Dies\",\"Link\":\"https://www.wsj.com/articles/sonny-mehta-editor-in-chief-of-book-publisher-knopf-dies-11577802218?mod=pls_whats_news_us_business_f\",\"Timestamp\":\"1.57791312E9\"}',\n",
       "  '{\"Summary\":\"Ajai Singh \\\\u201cSonny\\\\u201d Mehta, the fabled editor in chief of Alfred A. Knopf who published such Nobel Prize-winning authors as Kazuo Ishiguro and Toni Morrison, died Monday.\",\"Title\":\"\\'Sonny\\' Mehta, Editor in Chief of Book Publisher Knopf, Dies\",\"Link\":\"https://www.wsj.com/articles/sonny-mehta-editor-in-chief-of-book-publisher-knopf-dies-11577802218?mod=pls_whats_news_us_business_f\",\"Timestamp\":\"1.57791312E9\"}'],\n",
       " ['{\"Summary\":\"A Google artificial intelligence system proved as good as expert radiologists at detecting which women had breast cancer based on screening mammograms and showed promise at reducing errors, researchers in the United States and Britain reported.\",\"Title\":\"Study finds Google system could improve breast cancer detection\",\"Link\":\"https://www.nasdaq.com/articles/study-finds-google-system-could-improve-breast-cancer-detection-2020-01-01\",\"Timestamp\":\"1.57791307E9\"}',\n",
       "  '{\"Summary\":\"Picking the right trading platform/online broker is an important part of any options strategy. There will be key information that you need to find out along the way.\\\\n\\\\nAs you select your broker, be\",\"Title\":\"Getting Started With Your Online Broker\",\"Link\":\"https://www.nasdaq.com/articles/getting-started-with-your-online-broker-2020-01-01\",\"Timestamp\":\"1.5779106E9\"}',\n",
       "  '{\"Summary\":\"Bird flu has been detected in turkeys in eastern Poland, authorities said on Wednesday, and local media reported that the outbreak could require up to 40,000 birds to be slaughtered.\",\"Title\":\"Poland hit by bird flu outbreak on turkey farms\",\"Link\":\"https://www.nasdaq.com/articles/poland-hit-by-bird-flu-outbreak-on-turkey-farms-2020-01-01\",\"Timestamp\":\"1.577909473E9\"}',\n",
       "  '{\"Summary\":\"The FDA plans to ban the sale of fruity flavors in cartridge-based e-cigarettes, but the restriction won\\\\u2019t apply to tank vaping systems commonly found at vape shops.\",\"Title\":\"FDA to Ban All E-Cigarette Pod Flavors Except Tobacco and Menthol\",\"Link\":\"https://www.wsj.com/articles/fda-to-ban-all-e-cigarette-pod-flavors-except-tobacco-and-menthol-11577833093?mod=pls_whats_news_us_business_f\",\"Timestamp\":\"1.57790718E9\"}',\n",
       "  '{\"Summary\":\"The FDA plans to ban the sale of fruity flavors in cartridge-based e-cigarettes, but the restriction won\\\\u2019t apply to tank vaping systems commonly found at vape shops.\",\"Title\":\"FDA to Ban All E-Cigarette Pod Flavors Except Tobacco and Menthol\",\"Link\":\"https://www.wsj.com/articles/fda-to-ban-all-e-cigarette-pod-flavors-except-tobacco-and-menthol-11577833093?mod=pls_whats_news_us_business_f\",\"Timestamp\":\"1.57790718E9\"}',\n",
       "  '{\"Summary\":\"In every industry dominated by a small number of giants, there\\'s an opportunity to seek a niche audience and create a strong business.\",\"Title\":\"Is This the Best Athletic Stock on the Market?\",\"Link\":\"https://www.nasdaq.com/articles/is-this-the-best-athletic-stock-on-the-market-2020-01-01\",\"Timestamp\":\"1.57790646E9\"}',\n",
       "  '{\"Summary\":\"Fugitive former Nissan chairman Carlos Ghosn met Lebanon\\'s president after fleeing from Japan, where he was smuggled out of house arrest by a private security company, two sources close to Ghosn said on Wednesday.\",\"Title\":\"Ghosn met Lebanese president after fleeing Japan-sources\",\"Link\":\"https://www.nasdaq.com/articles/ghosn-met-lebanese-president-after-fleeing-japan-sources-2020-01-01\",\"Timestamp\":\"1.577905456E9\"}',\n",
       "  '{\"Summary\":\"Google said it has developed an AI system that can match or outperform radiologists at detecting breast cancer, according to new research. But doctors still beat the machines in some cases.\",\"Title\":\"Google AI Beats Doctors at Breast Cancer Detection---Sometimes\",\"Link\":\"https://www.wsj.com/articles/google-ai-beats-doctors-at-breast-cancer-detectionsometimes-11577901600?mod=pls_whats_news_us_business_f\",\"Timestamp\":\"1.5779016E9\"}',\n",
       "  '{\"Summary\":\"Google said it has developed an AI system that can match or outperform radiologists at detecting breast cancer, according to new research. But doctors still beat the machines in some cases.\",\"Title\":\"Google AI Beats Doctors at Breast Cancer Detection---Sometimes\",\"Link\":\"https://www.wsj.com/articles/google-ai-beats-doctors-at-breast-cancer-detectionsometimes-11577901600?mod=pls_whats_news_us_business_f\",\"Timestamp\":\"1.5779016E9\"}',\n",
       "  '{\"Summary\":\"Investors seek growth stocks to capitalize on above-average growth in financials that help these securities grab the market\\'s attention and produce exceptional returns. But finding a great growth stock is not easy at all.\",\"Title\":\"Looking for a Growth Stock? 3 Reasons Why Lumentum (LITE) is a Solid Choice\",\"Link\":\"https://www.nasdaq.com/articles/looking-for-a-growth-stock-3-reasons-why-lumentum-lite-is-a-solid-choice-2020-01-01\",\"Timestamp\":\"1.577900706E9\"}',\n",
       "  '{\"Summary\":\"Investors seek growth stocks to capitalize on above-average growth in financials that help these securities grab the market\\'s attention and produce exceptional returns. But finding a growth stock that can live up to its true potential can be a tough task.\",\"Title\":\"3 Reasons Why Growth Investors Shouldn\\'t Overlook Fair Isaac (FICO)\",\"Link\":\"https://www.nasdaq.com/articles/3-reasons-why-growth-investors-shouldnt-overlook-fair-isaac-fico-2020-01-01\",\"Timestamp\":\"1.577900706E9\"}',\n",
       "  '{\"Summary\":\"Growth investors focus on stocks that are seeing above-average financial growth, as this feature helps these securities garner the market\\'s attention and deliver solid returns. However, it isn\\'t easy to find a great growth stock.\",\"Title\":\"3 Reasons Growth Investors Will Love Casey\\'s (CASY)\",\"Link\":\"https://www.nasdaq.com/articles/3-reasons-growth-investors-will-love-caseys-casy-2020-01-01\",\"Timestamp\":\"1.577900706E9\"}',\n",
       "  '{\"Summary\":\"The S&P 500 closed out 2019 with another strong month in December. However, analysts remain optimistic on some top stocks heading into 2020. Here\\\\u2019s a look at several stocks analysts recommend. Vivint Solar ...\",\"Title\":\"5 Stocks Analysts Recommend Heading Into 2020\",\"Link\":\"https://finance.yahoo.com/news/5-stocks-analysts-recommend-heading-170733995.html\",\"Timestamp\":\"1.577898453E9\"}',\n",
       "  '{\"Summary\":\"The S&P 500 closed out 2019 with another strong month in December. However, analysts remain optimistic on some top stocks heading into 2020. Here\\\\u2019s a look at several stocks analysts recommend. Vivint Solar ...\",\"Title\":\"5 Stocks Analysts Recommend Heading Into 2020\",\"Link\":\"https://finance.yahoo.com/news/5-stocks-analysts-recommend-heading-170733995.html\",\"Timestamp\":\"1.577898453E9\"}',\n",
       "  '{\"Summary\":\"Tesla ended 2019 with a near-record valuation, but investors should be careful not to confuse a buoyant stock price with a sustainably profitable business.\",\"Title\":\"Can Tesla Hold Its Charge?\",\"Link\":\"https://www.wsj.com/articles/can-tesla-hold-its-charge-11577892780\",\"Timestamp\":\"1.57789278E9\"}',\n",
       "  '{\"Summary\":\"Tesla ended 2019 with a near-record valuation, but investors should be careful not to confuse a buoyant stock price with a sustainably profitable business.\",\"Title\":\"Can Tesla Hold Its Charge?\",\"Link\":\"https://www.wsj.com/articles/can-tesla-hold-its-charge-11577892780\",\"Timestamp\":\"1.57789278E9\"}'],\n",
       " ['{\"Summary\":\"Installment loans and online small-business lending are replacing payday loans for lower-income households, a new report shows. Each year they spend billions of dollars in fees and interest on products including auto loans.\",\"Title\":\"Lower-Income Households Reduce Payday Loans\",\"Link\":\"https://www.wsj.com/articles/lower-income-households-shift-away-from-payday-loans-11577807446\",\"Timestamp\":\"1.5778074E9\"}',\n",
       "  '{\"Summary\":\"Installment loans and online small-business lending are replacing payday loans for lower-income households, a new report shows. Each year they spend billions of dollars in fees and interest on products including auto loans.\",\"Title\":\"Lower-Income Households Reduce Payday Loans\",\"Link\":\"https://www.wsj.com/articles/lower-income-households-shift-away-from-payday-loans-11577807446\",\"Timestamp\":\"1.5778074E9\"}',\n",
       "  '{\"Summary\":\"Tencent is buying a 10% stake in the music giant behind Ariana Grande, Drake and Billie Eilish for $3.36 billion in a deal that bolsters the Chinese internet giant\\\\u2019s growing presence in the record industry.\",\"Title\":\"Tencent Buys 10% Stake in Record Label of Billie Eilish, Drake\",\"Link\":\"https://www.wsj.com/articles/tencent-buys-10-stake-in-record-label-of-billie-eilish-drake-11577793085?mod=pls_whats_news_us_business_f\",\"Timestamp\":\"1.57780632E9\"}',\n",
       "  '{\"Summary\":\"Tencent is buying a 10% stake in the music giant behind Ariana Grande, Drake and Billie Eilish for $3.36 billion in a deal that bolsters the Chinese internet giant\\\\u2019s growing presence in the record industry.\",\"Title\":\"Tencent Buys 10% Stake in Record Label of Billie Eilish, Drake\",\"Link\":\"https://www.wsj.com/articles/tencent-buys-10-stake-in-record-label-of-billie-eilish-drake-11577793085?mod=pls_whats_news_us_business_f\",\"Timestamp\":\"1.57780632E9\"}',\n",
       "  '{\"Summary\":\"Home prices increased at a slightly faster rate in October, the latest sign the housing market is firming after weakness earlier in the year.\",\"Title\":\"Home Prices Rose at a Slightly Faster Pace in October\",\"Link\":\"https://www.wsj.com/articles/home-prices-rose-at-a-slightly-faster-pace-in-october-11577800837?mod=pls_whats_news_us_business_f\",\"Timestamp\":\"1.57780206E9\"}',\n",
       "  '{\"Summary\":\"Home prices increased at a slightly faster rate in October, the latest sign the housing market is firming after weakness earlier in the year.\",\"Title\":\"Home Prices Rose at a Slightly Faster Pace in October\",\"Link\":\"https://www.wsj.com/articles/home-prices-rose-at-a-slightly-faster-pace-in-october-11577800837?mod=pls_whats_news_us_business_f\",\"Timestamp\":\"1.57780206E9\"}',\n",
       "  '{\"Summary\":\"A curated list of 10 songs submitted by WSJ reporters & editors that most represents the money, power and business story of the decade that mattered to them. Listen to see which ones made the cut.\",\"Title\":\"This Is More Than Just a Playlist\",\"Link\":\"https://www.wsj.com/articles/this-is-more-than-just-a-playlist-11577801640\",\"Timestamp\":\"1.57780164E9\"}',\n",
       "  '{\"Summary\":\"A curated list of 10 songs submitted by WSJ reporters & editors that most represents the money, power and business story of the decade that mattered to them. Listen to see which ones made the cut.\",\"Title\":\"This Is More Than Just a Playlist\",\"Link\":\"https://www.wsj.com/articles/this-is-more-than-just-a-playlist-11577801640\",\"Timestamp\":\"1.57780164E9\"}',\n",
       "  '{\"Summary\":\"Once a place of heroic assumptions about growth, the Tokyo stock market has turned into one of the globe\\\\u2019s biggest bargain bins.\",\"Title\":\"Stock Picking in Japan Is Like Rummaging Through a Thrift Shop\",\"Link\":\"https://www.wsj.com/articles/stock-picking-in-japan-is-like-rummaging-through-a-thrift-shop-11577800800\",\"Timestamp\":\"1.5778008E9\"}',\n",
       "  '{\"Summary\":\"Once a place of heroic assumptions about growth, the Tokyo stock market has turned into one of the globe\\\\u2019s biggest bargain bins.\",\"Title\":\"Stock Picking in Japan Is Like Rummaging Through a Thrift Shop\",\"Link\":\"https://www.wsj.com/articles/stock-picking-in-japan-is-like-rummaging-through-a-thrift-shop-11577800800\",\"Timestamp\":\"1.5778008E9\"}',\n",
       "  '{\"Summary\":\"Pop-up notifications are frequent for many iPhone users who have downloaded Apple\\\\u2019s iOS 13. They arrive every few days for each app that tracks location while not in use and includes maps.\",\"Title\":\"iPhone Update Reminds Users---Again and Again---of Being Tracked\",\"Link\":\"https://www.wsj.com/articles/iphone-update-reminds-usersagain-and-againof-being-tracked-11577799336?mod=pls_whats_news_us_business_f\",\"Timestamp\":\"1.5777993E9\"}',\n",
       "  '{\"Summary\":\"Pop-up notifications are frequent for many iPhone users who have downloaded Apple\\\\u2019s iOS 13. They arrive every few days for each app that tracks location while not in use and includes maps.\",\"Title\":\"iPhone Update Reminds Users---Again and Again---of Being Tracked\",\"Link\":\"https://www.wsj.com/articles/iphone-update-reminds-usersagain-and-againof-being-tracked-11577799336?mod=pls_whats_news_us_business_f\",\"Timestamp\":\"1.5777993E9\"}',\n",
       "  '{\"Summary\":\"Here are some of the companies with shares expected to trade actively in Monday\\\\u2019s session.\",\"Title\":\"Stocks to Watch: Uber, McDermott International, Netflix\",\"Link\":\"https://www.wsj.com/articles/stocks-to-watch-uber-mcdermott-international-netflix-11577785399\",\"Timestamp\":\"1.57779894E9\"}',\n",
       "  '{\"Summary\":\"Here are some of the companies with shares expected to trade actively in Monday\\\\u2019s session.\",\"Title\":\"Stocks to Watch: Uber, McDermott International, Netflix\",\"Link\":\"https://www.wsj.com/articles/stocks-to-watch-uber-mcdermott-international-netflix-11577785399\",\"Timestamp\":\"1.57779894E9\"}',\n",
       "  '{\"Summary\":\"Laws requiring a living wage for cocoa farmers in key growing nations have some traders worrying about a flood of production.\",\"Title\":\"Cocoa Futures Melting as Traders Fear Oversupply\",\"Link\":\"https://www.wsj.com/articles/cocoa-futures-melting-as-traders-fear-oversupply-11577797200\",\"Timestamp\":\"1.5777972E9\"}',\n",
       "  '{\"Summary\":\"Laws requiring a living wage for cocoa farmers in key growing nations have some traders worrying about a flood of production.\",\"Title\":\"Cocoa Futures Melting as Traders Fear Oversupply\",\"Link\":\"https://www.wsj.com/articles/cocoa-futures-melting-as-traders-fear-oversupply-11577797200\",\"Timestamp\":\"1.5777972E9\"}',\n",
       "  '{\"Summary\":\"In South Korea, where the next-generation wireless network has been rolled out widely, download speeds have risen but many users aren\\\\u2019t impressed.\",\"Title\":\"5G Underwhelms in Its First Big Test\",\"Link\":\"https://www.wsj.com/articles/5g-underwhelms-in-its-first-big-test-11577788203?mod=pls_whats_news_us_business_f\",\"Timestamp\":\"1.57779438E9\"}',\n",
       "  '{\"Summary\":\"In South Korea, where the next-generation wireless network has been rolled out widely, download speeds have risen but many users aren\\\\u2019t impressed.\",\"Title\":\"5G Underwhelms in Its First Big Test\",\"Link\":\"https://www.wsj.com/articles/5g-underwhelms-in-its-first-big-test-11577788203?mod=pls_whats_news_us_business_f\",\"Timestamp\":\"1.57779438E9\"}',\n",
       "  '{\"Summary\":\"Some Americans are buying sporting goods, handbags and even wedding dresses online directly from sellers in China, avoiding U.S. tariffs while taking sales from American retailers that must pay the duties.\",\"Title\":\"Tariffs on Chinese Goods Are Skirted by Some U.S. Shoppers\",\"Link\":\"https://www.wsj.com/articles/tariffs-on-chinese-goods-are-skirted-by-some-u-s-shoppers-11577788201?mod=pls_whats_news_us_business_f\",\"Timestamp\":\"1.5777882E9\"}',\n",
       "  '{\"Summary\":\"Some Americans are buying sporting goods, handbags and even wedding dresses online directly from sellers in China, avoiding U.S. tariffs while taking sales from American retailers that must pay the duties.\",\"Title\":\"Tariffs on Chinese Goods Are Skirted by Some U.S. Shoppers\",\"Link\":\"https://www.wsj.com/articles/tariffs-on-chinese-goods-are-skirted-by-some-u-s-shoppers-11577788201?mod=pls_whats_news_us_business_f\",\"Timestamp\":\"1.5777882E9\"}'],\n",
       " ['{\"Summary\":\"Regulators worry insurers are underplaying the dangers of a product tied to the performance of the U.S. stock market\",\"Title\":\"It\\'s the Hottest Thing in Life Insurance. Are Buyers Aware of the Risks?\",\"Link\":\"https://www.wsj.com/articles/its-the-hottest-thing-in-life-insurance-are-buyers-aware-of-the-risks-11578047405\",\"Timestamp\":\"1.57810374E9\"}',\n",
       "  '{\"Summary\":\"Apple cleared its financial goals in 2019, but weaker iPhone sales contributed to a drop in CEO Tim Cook\\\\u2019s executive pay. Including vested stock, his total pay for the year would add up to roughly $125 million.\",\"Title\":\"Apple Chief Cook\\'s Pay Fell in 2019\",\"Link\":\"https://www.wsj.com/articles/apple-chief-tim-cooks-pay-fell-in-2019-11578098258?mod=pls_whats_news_us_business_f\",\"Timestamp\":\"1.57809822E9\"}',\n",
       "  '{\"Summary\":\"Tesla achieved CEO Elon Musk\\\\u2019s 2019 goal for deliveries of its electric vehicles. The road ahead for the auto maker comes with the familiar challenge of execution and will test its performance in China.\",\"Title\":\"Tesla Faces Fresh Challenges After Hitting Delivery Goal\",\"Link\":\"https://www.wsj.com/articles/tesla-cuts-price-of-china-made-model-3-cars-11578057829?mod=pls_whats_news_us_business_f\",\"Timestamp\":\"1.57809768E9\"}',\n",
       "  '{\"Summary\":\"A pair of security contractors accompanied Carlos Ghosn out of Japan after he was slipped aboard a private jet inside a large black case.\",\"Title\":\"Ghosn Sneaked Out of Japan in Box Used for Audio Gear\",\"Link\":\"https://www.wsj.com/articles/carlos-ghosn-sneaked-out-of-japan-in-box-used-for-audio-gear-11578077647?mod=pls_whats_news_us_business_f\",\"Timestamp\":\"1.57809552E9\"}',\n",
       "  '{\"Summary\":\"Here are seven companies whose stocks moved on the week\\\\u2019s news\",\"Title\":\"Occidental Petroleum, Walt Disney, Nissan Motor: Stocks That Defined the Week\",\"Link\":\"https://www.wsj.com/articles/occidental-petroleum-corp-walt-disney-nissan-motor-stocks-that-defined-the-week-11578095442\",\"Timestamp\":\"1.5780954E9\"}',\n",
       "  '{\"Summary\":\"Direct listings have been embraced by venture capitalists and big technology companies, but their safety for individual investors is a matter of debate.\",\"Title\":\"Investor Advocates See Risks in Silicon Valley\\'s Favorite IPO Alternative\",\"Link\":\"https://www.wsj.com/articles/investor-advocates-see-risks-in-silicon-valleys-favorite-ipo-alternative-11578047400\",\"Timestamp\":\"1.57809432E9\"}',\n",
       "  '{\"Summary\":\"The multiyear boom in U.S. auto sales showed signs of easing in 2019 with major car companies reporting softer results and industry executives predicting the slowdown would continue in 2020.\",\"Title\":\"Car Sales Boom Hit the Brakes in 2019\",\"Link\":\"https://www.wsj.com/articles/car-sales-boom-hit-the-brakes-in-2019-11578071698?mod=pls_whats_news_us_business_f\",\"Timestamp\":\"1.57809306E9\"}',\n",
       "  '{\"Summary\":\"The U.S. military has banned its members from using TikTok, signaling increasing concern about possible security risks related to the popular video app\\\\u2019s Chinese ownership.\",\"Title\":\"U.S. Military Bans TikTok Over Ties to China\",\"Link\":\"https://www.wsj.com/articles/u-s-military-bans-tiktok-over-ties-to-china-11578090613?mod=pls_whats_news_us_business_f\",\"Timestamp\":\"1.5780906E9\"}',\n",
       "  '{\"Summary\":\"Federal Reserve officials at their mid-December meeting appeared comfortable holding interest rates steady in the months ahead.\",\"Title\":\"Fed Minutes Show Comfort With Prolonged Pause on Rates\",\"Link\":\"https://www.wsj.com/articles/fed-minutes-show-comfort-with-prolonged-pause-on-rates-11578078226?mod=pls_whats_news_us_business_f\",\"Timestamp\":\"1.57809066E9\"}',\n",
       "  '{\"Summary\":\"Two Federal Reserve officials said Friday that broad structural changes in the global economy have held down interest rates, inflation and economic growth in ways that are difficult for central bankers to address.\",\"Title\":\"Fed Officials Say Global Economic Shift Is Keeping Rates Low\",\"Link\":\"https://www.wsj.com/articles/fed-officials-say-global-economic-shift-is-keeping-rates-low-11578089947?mod=pls_whats_news_us_business_f\",\"Timestamp\":\"1.57808994E9\"}'],\n",
       " ['{\"Summary\":\"FXEmpire.com - On the Macro\\\\nIt\\\\u2019s a busy week ahead on the economic calendar, with 51 stats to monitor. In the previous week, just 27 stats had been in focus.\",\"Title\":\"The Week Ahead – Stats, Impeachment, and Brexit to Take a Back Seat as Iran Takes Center Stage\",\"Link\":\"https://www.nasdaq.com/articles/the-week-ahead-stats-impeachment-and-brexit-to-take-a-back-seat-as-iran-takes-center-stage\",\"Timestamp\":\"1.578196637E9\"}',\n",
       "  '{\"Summary\":\"What happened\\\\nShares of Huazhu Group\\\\xa0(NASDAQ: HTHT) rose 17.1% in December, according to data from\\\\xa0S&P Global Market Intelligence\\\\xa0. The hotel company\\'s stock posted big gains as the broader Chinese stock market advanced thanks to an improved trade outlook.\",\"Title\":\"Why Huazhu Group Stock Climbed 17.1% in December\",\"Link\":\"https://www.nasdaq.com/articles/why-huazhu-group-stock-climbed-17.1-in-december-2020-01-05\",\"Timestamp\":\"1.5781932E9\"}',\n",
       "  '{\"Summary\":\"What happened\\\\nShares of Baozun\\\\xa0(NASDAQ: BZUN) slipped 12.8% in December, according to data from\\\\xa0S&P Global Market Intelligence\\\\xa0. The Chinese e-commerce stock has been under pressure after after the company reported disappointing third-quarter earnings results on Nov. 21,\",\"Title\":\"Why Baozun Stock Fell 12.8% in December\",\"Link\":\"https://www.nasdaq.com/articles/why-baozun-stock-fell-12.8-in-december-2020-01-05\",\"Timestamp\":\"1.5781896E9\"}',\n",
       "  '{\"Summary\":\"What happened\\\\nShares of iQiyi\\\\xa0(NASDAQ: IQ) rose 10.2% in December, according to data from\\\\xa0S&P Global Market Intelligence\\\\xa0. The streaming company\\'s stock gained ground amid broader a broader rally for Chinese stocks as trade tensions with the U.S. deescalated.\",\"Title\":\"Why iQiyi Stock Climbed 10.2% in December\",\"Link\":\"https://www.nasdaq.com/articles/why-iqiyi-stock-climbed-10.2-in-december-2020-01-05\",\"Timestamp\":\"1.5781887E9\"}',\n",
       "  '{\"Summary\":\"What happened\\\\nShares of Elastic\\\\xa0(NYSE: ESTC) fell after the cloud-based enterprise search company reported second-quarter earnings early in December. The stock shed 19% of its value in the month, according to data from\\\\xa0S&P Global Market Intelligence.\",\"Title\":\"Why Elastic Stock Dropped 19% in December\",\"Link\":\"https://www.nasdaq.com/articles/why-elastic-stock-dropped-19-in-december-2020-01-05\",\"Timestamp\":\"1.5781878E9\"}',\n",
       "  '{\"Summary\":\"What happened\\\\nShares of Mirati Therapeutics (NASDAQ: MRTX),\\\\xa0a clinical-stage biopharmaceutical company, rose 27.9% in December, according to data from S&P Global Market Intelligence.\\\\xa0Investors were revved up by results from an ovarian cancer study involving Mirati\\'s sitrav\",\"Title\":\"Here\\'s Why Mirati Therapeutics Jumped 28% in December\",\"Link\":\"https://www.nasdaq.com/articles/heres-why-mirati-therapeutics-jumped-28-in-december-2020-01-05\",\"Timestamp\":\"1.578186E9\"}',\n",
       "  '{\"Summary\":\"What happened\\\\nBouncing back from the 3% dip they experienced in November, shares of Newmont Goldcorp (NYSE: NEM), an industry leader in\\\\xa0gold\\\\xa0production, climbed 13% last month, according to data from\\\\xa0S&P Global Market Intelligence.\",\"Title\":\"Here\\'s Why Shares of Newmont Goldcorp Soared 13% in December\",\"Link\":\"https://www.nasdaq.com/articles/heres-why-shares-of-newmont-goldcorp-soared-13-in-december-2020-01-05\",\"Timestamp\":\"1.5781869E9\"}',\n",
       "  '{\"Summary\":\"The Federal Reserve has ample tools for fighting a potential recession even though its benchmark interest rate remains historically low, former Fed Chairman Ben Bernanke said.\",\"Title\":\"Fed Has Many Tools to Deter Recession, Former Chairman Bernanke Says\",\"Link\":\"https://www.wsj.com/articles/fed-has-many-tools-to-deter-recession-former-chairman-bernanke-says-11578184800?mod=pls_whats_news_us_business_f\",\"Timestamp\":\"1.5781848E9\"}',\n",
       "  '{\"Summary\":\"As has been the case for several years, 2019 was another lackluster one for\\\\xa0energy stocks. Most significantly underperformed the\\\\xa0S&P 500, which gained 29% on the year. The average one in the\\\\xa0Vanguard Energy ETF\\\\xa0-- an\\\\xa0exchange-traded fund\\\\xa0that holds more than 140 energy\",\"Title\":\"Why Your 2020 Resolution Should Be to Buy More Energy Stocks\",\"Link\":\"https://www.nasdaq.com/articles/why-your-2020-resolution-should-be-to-buy-more-energy-stocks-2020-01-04\",\"Timestamp\":\"1.57818048E9\"}']]"
      ]
     },
     "execution_count": 60,
     "metadata": {},
     "output_type": "execute_result"
    }
   ],
   "source": [
    "branked.select(\"Dictionary\").rdd.flatMap(list).collect()"
   ]
  },
  {
   "cell_type": "code",
   "execution_count": 91,
   "metadata": {},
   "outputs": [
    {
     "ename": "TypeError",
     "evalue": "list indices must be integers or slices, not str",
     "output_type": "error",
     "traceback": [
      "\u001b[0;31m---------------------------------------------------------------------------\u001b[0m",
      "\u001b[0;31mTypeError\u001b[0m                                 Traceback (most recent call last)",
      "\u001b[0;32m<ipython-input-91-2c18d2c84a3d>\u001b[0m in \u001b[0;36m<module>\u001b[0;34m\u001b[0m\n\u001b[1;32m      1\u001b[0m \u001b[0;32mfor\u001b[0m \u001b[0mtask\u001b[0m \u001b[0;32min\u001b[0m \u001b[0mjson\u001b[0m\u001b[0;34m.\u001b[0m\u001b[0mloads\u001b[0m\u001b[0;34m(\u001b[0m\u001b[0mr\u001b[0m\u001b[0;34m.\u001b[0m\u001b[0mget\u001b[0m\u001b[0;34m(\u001b[0m\u001b[0;34m'LatestNews'\u001b[0m\u001b[0;34m)\u001b[0m\u001b[0;34m)\u001b[0m\u001b[0;34m[\u001b[0m\u001b[0;34m\"tasks\"\u001b[0m\u001b[0;34m]\u001b[0m\u001b[0;34m:\u001b[0m\u001b[0;34m\u001b[0m\u001b[0;34m\u001b[0m\u001b[0m\n\u001b[0;32m----> 2\u001b[0;31m     \u001b[0mprint\u001b[0m\u001b[0;34m(\u001b[0m\u001b[0mtask\u001b[0m\u001b[0;34m[\u001b[0m\u001b[0;34m\"Summary\"\u001b[0m\u001b[0;34m]\u001b[0m\u001b[0;34m+\u001b[0m\u001b[0;34m\"\\n\"\u001b[0m\u001b[0;34m)\u001b[0m\u001b[0;34m\u001b[0m\u001b[0;34m\u001b[0m\u001b[0m\n\u001b[0m",
      "\u001b[0;31mTypeError\u001b[0m: list indices must be integers or slices, not str"
     ]
    }
   ],
   "source": [
    "for task in json.loads(r.get('LatestNews'))[\"tasks\"]:\n",
    "    print(task[\"Summary\"]+\"\\n\")"
   ]
  },
  {
   "cell_type": "code",
   "execution_count": 89,
   "metadata": {},
   "outputs": [
    {
     "name": "stdout",
     "output_type": "stream",
     "text": [
      "Success:835e4008-1614-443e-8f79-cfe482b7743c\n"
     ]
    }
   ],
   "source": [
    "batchSet = json.loads(r.get('LatestNews'))\n",
    "if(\"id\" in batchSet):\n",
    "    print(\"Success:\"+batchSet[\"id\"])\n",
    "else:\n",
    "    print(\"Failure\")\n",
    "        "
   ]
  },
  {
   "cell_type": "code",
   "execution_count": 129,
   "metadata": {},
   "outputs": [],
   "source": [
    "text = \"The Week Ahead \\\\u2013 Stats, Impeachment\""
   ]
  },
  {
   "cell_type": "code",
   "execution_count": 132,
   "metadata": {},
   "outputs": [
    {
     "data": {
      "text/plain": [
       "'The Week Ahead – Stats, Impeachment'"
      ]
     },
     "execution_count": 132,
     "metadata": {},
     "output_type": "execute_result"
    }
   ],
   "source": [
    "text.encode(\"ascii\").decode(\"unicode_escape\")"
   ]
  },
  {
   "cell_type": "code",
   "execution_count": null,
   "metadata": {},
   "outputs": [],
   "source": []
  }
 ],
 "metadata": {
  "kernelspec": {
   "display_name": "Python 3",
   "language": "python",
   "name": "python3"
  },
  "language_info": {
   "codemirror_mode": {
    "name": "ipython",
    "version": 3
   },
   "file_extension": ".py",
   "mimetype": "text/x-python",
   "name": "python",
   "nbconvert_exporter": "python",
   "pygments_lexer": "ipython3",
   "version": "3.7.3"
  }
 },
 "nbformat": 4,
 "nbformat_minor": 2
}
