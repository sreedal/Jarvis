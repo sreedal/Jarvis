{
 "cells": [
  {
   "cell_type": "code",
   "execution_count": null,
   "metadata": {},
   "outputs": [],
   "source": [
    "# Install all dependencies\n",
    "!pip install twitter\n",
    "!pip install feedparser\n",
    "!pip install kafka-python"
   ]
  },
  {
   "cell_type": "code",
   "execution_count": null,
   "metadata": {},
   "outputs": [],
   "source": [
    "# Define all imports\n",
    "from twitter import *\n",
    "import json\n",
    "import feedparser\n",
    "from urllib.request import urlopen\n",
    "from kafka import KafkaConsumer, KafkaProducer\n",
    "from json import loads, dumps\n",
    "from time import sleep"
   ]
  },
  {
   "cell_type": "code",
   "execution_count": null,
   "metadata": {},
   "outputs": [],
   "source": [
    "# Setup schedule to extract information every 'x' minutes & upload to kafka\n",
    "t = Twitter(auth=OAuth(consumer_key=\"nDwKHutvaskyGecZkCS1SiYY8\", consumer_secret=\"zlQdJIuFUGGglbMO2kYMk6oNLFztzipxhRANNz5q5gqfn1tGb1\", token=\"73568030-GqfoqkfWRhqhARS9uzz51vg1UGSV7AGRaOxDkAurZ\", token_secret=\"1kiHGfyDfO7gcaJbGFnr3lnLA3vXc8ti9hJhj1lnTTvEm\"))\n",
    "t.search.tweets(q=\"$MSFT\")\n",
    "d = feedparser.parse(\"http://feeds.reuters.com/reuters/businessNews\")\n",
    "print([l.title for l in d[\"entries\"]])\n",
    "labels = json.load(urlopen(\"https://query1.finance.yahoo.com/v7/finance/chart/MSFT?&interval=5m\"))"
   ]
  },
  {
   "cell_type": "code",
   "execution_count": null,
   "metadata": {},
   "outputs": [],
   "source": [
    "# Setup spark processing of kafka & write to disk"
   ]
  }
 ],
 "metadata": {
  "kernelspec": {
   "display_name": "Python 3",
   "language": "python",
   "name": "python3"
  },
  "language_info": {
   "codemirror_mode": {
    "name": "ipython",
    "version": 3
   },
   "file_extension": ".py",
   "mimetype": "text/x-python",
   "name": "python",
   "nbconvert_exporter": "python",
   "pygments_lexer": "ipython3",
   "version": "3.7.3"
  }
 },
 "nbformat": 4,
 "nbformat_minor": 2
}
