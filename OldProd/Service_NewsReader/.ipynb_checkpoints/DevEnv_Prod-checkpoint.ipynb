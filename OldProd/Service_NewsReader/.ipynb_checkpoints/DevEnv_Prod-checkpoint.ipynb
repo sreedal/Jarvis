{
 "cells": [
  {
   "cell_type": "markdown",
   "metadata": {},
   "source": [
    "**Prod Version of DevEnv**\n",
    "\n",
    "**This notebook is run using nbconvert after devenv service starts**"
   ]
  },
  {
   "cell_type": "code",
   "execution_count": 1,
   "metadata": {},
   "outputs": [
    {
     "name": "stdout",
     "output_type": "stream",
     "text": [
      "Requirement already satisfied: twitter in /opt/conda/lib/python3.7/site-packages (1.18.0)\n",
      "Requirement already satisfied: feedparser in /opt/conda/lib/python3.7/site-packages (5.2.1)\n",
      "Requirement already satisfied: schedule in /opt/conda/lib/python3.7/site-packages (0.6.0)\n",
      "Collecting kafka-python\n",
      "\u001b[?25l  Downloading https://files.pythonhosted.org/packages/49/c9/9863483a1353700ba87821b4f39085eb18fd1bcbb1e954c697177d67f03f/kafka_python-1.4.7-py2.py3-none-any.whl (266kB)\n",
      "\u001b[K     |████████████████████████████████| 266kB 948kB/s eta 0:00:01\n",
      "\u001b[?25hInstalling collected packages: kafka-python\n",
      "Successfully installed kafka-python-1.4.7\n",
      "Collecting redis\n",
      "\u001b[?25l  Downloading https://files.pythonhosted.org/packages/32/ae/28613a62eea0d53d3db3147f8715f90da07667e99baeedf1010eb400f8c0/redis-3.3.11-py2.py3-none-any.whl (66kB)\n",
      "\u001b[K     |████████████████████████████████| 71kB 997kB/s eta 0:00:01\n",
      "\u001b[?25hInstalling collected packages: redis\n",
      "Successfully installed redis-3.3.11\n"
     ]
    }
   ],
   "source": [
    "!pip install twitter\n",
    "!pip install feedparser\n",
    "!pip install schedule\n",
    "!pip install kafka-python\n",
    "!pip install redis"
   ]
  },
  {
   "cell_type": "code",
   "execution_count": 2,
   "metadata": {},
   "outputs": [],
   "source": [
    "from time import sleep\n",
    "from json import dumps, loads, load\n",
    "from kafka import KafkaProducer\n",
    "from datetime import datetime, timedelta\n",
    "from feedparser import parse\n",
    "from urllib.request import urlopen\n",
    "from twitter import Twitter\n",
    "import schedule\n",
    "from datetime import datetime"
   ]
  },
  {
   "cell_type": "code",
   "execution_count": 3,
   "metadata": {},
   "outputs": [],
   "source": [
    "tickers = [\"MSFT\",\"AAPL\"]\n",
    "feeds = [\"http://feeds.reuters.com/reuters/businessNews\"]\n",
    "\n",
    "producer = KafkaProducer(\n",
    "    bootstrap_servers=['broker:9092'],\n",
    "    api_version= (0,11),\n",
    "    value_serializer=lambda x: dumps(x).encode('utf-8'))"
   ]
  },
  {
   "cell_type": "code",
   "execution_count": 10,
   "metadata": {},
   "outputs": [],
   "source": [
    "def DownloadStreams():    \n",
    "    # News Stream from Reuters for Business\n",
    "    feed_data = {}\n",
    "    for feed in feeds:\n",
    "        feed_data[feed] = [{\"Type\": \"News\", \"Timestamp\": datetime.timestamp(datetime.now()), \"Title\":l.title, \"Summary\":l.summary, \"Link\":l.link} for l in (parse(feed))[\"entries\"]]\n",
    "        # print([l.title for l in d[\"entries\"]])\n",
    "\n",
    "    return feed_data\n",
    "\n",
    "def UploadStreamsToKafka(feed_data):\n",
    "    for key in feed_data.keys():\n",
    "        for entry in feed_data[key]:\n",
    "            print(key+\":\"+str(entry)+\"\\r\\n\")\n",
    "            producer.send('news_feed', value=entry)\n",
    "    producer.flush()\n",
    "\n",
    "def HourlyJob():\n",
    "    # Check, Download & Parse each stream\n",
    "    feed_data = DownloadStreams()\n",
    "    # Upload cleaned events into Kafka Topics\n",
    "    UploadStreamsToKafka(feed_data)\n",
    "    print(\"Hourly Run Events Complete - Sleeping now\")"
   ]
  },
  {
   "cell_type": "code",
   "execution_count": 31,
   "metadata": {},
   "outputs": [
    {
     "name": "stdout",
     "output_type": "stream",
     "text": [
      "http://feeds.reuters.com/reuters/businessNews:{'Type': 'News', 'Timestamp': 1575752793.032203, 'Title': 'Amazon CEO says wants to work more with Pentagon', 'Summary': 'Amazon.com Inc founder Jeff Bezos said it would support the U.S. Department of Defense as technology companies vie for more defense contracts and the Pentagon seeks to modernize itself.<div class=\"feedflare\">\\n<a href=\"http://feeds.reuters.com/~ff/reuters/businessNews?a=3Ibru8BjLbo:S1trEh2F1pE:yIl2AUoC8zA\"><img src=\"http://feeds.feedburner.com/~ff/reuters/businessNews?d=yIl2AUoC8zA\" border=\"0\"></img></a> <a href=\"http://feeds.reuters.com/~ff/reuters/businessNews?a=3Ibru8BjLbo:S1trEh2F1pE:F7zBnMyn0Lo\"><img src=\"http://feeds.feedburner.com/~ff/reuters/businessNews?i=3Ibru8BjLbo:S1trEh2F1pE:F7zBnMyn0Lo\" border=\"0\"></img></a> <a href=\"http://feeds.reuters.com/~ff/reuters/businessNews?a=3Ibru8BjLbo:S1trEh2F1pE:V_sGLiPBpWU\"><img src=\"http://feeds.feedburner.com/~ff/reuters/businessNews?i=3Ibru8BjLbo:S1trEh2F1pE:V_sGLiPBpWU\" border=\"0\"></img></a>\\n</div><img src=\"http://feeds.feedburner.com/~r/reuters/businessNews/~4/3Ibru8BjLbo\" height=\"1\" width=\"1\" alt=\"\"/>', 'Link': 'http://feeds.reuters.com/~r/reuters/businessNews/~3/3Ibru8BjLbo/amazon-ceo-says-wants-to-work-more-with-pentagon-idUSKBN1YB0JL'}\r\n",
      "\n",
      "http://feeds.reuters.com/reuters/businessNews:{'Type': 'News', 'Timestamp': 1575752793.032252, 'Title': \"Mexico, U.S. 'getting close' on finalizing USMCA: Mexican official\", 'Summary': 'Mexico\\'s deputy foreign minister for North America said on Saturday that negotiators were making progress on revisions to the United States-Mexico-Canada Agreement (USMCA) trade deal.<div class=\"feedflare\">\\n<a href=\"http://feeds.reuters.com/~ff/reuters/businessNews?a=USUzSxMxZ0g:dhCiVHkxKec:yIl2AUoC8zA\"><img src=\"http://feeds.feedburner.com/~ff/reuters/businessNews?d=yIl2AUoC8zA\" border=\"0\"></img></a> <a href=\"http://feeds.reuters.com/~ff/reuters/businessNews?a=USUzSxMxZ0g:dhCiVHkxKec:F7zBnMyn0Lo\"><img src=\"http://feeds.feedburner.com/~ff/reuters/businessNews?i=USUzSxMxZ0g:dhCiVHkxKec:F7zBnMyn0Lo\" border=\"0\"></img></a> <a href=\"http://feeds.reuters.com/~ff/reuters/businessNews?a=USUzSxMxZ0g:dhCiVHkxKec:V_sGLiPBpWU\"><img src=\"http://feeds.feedburner.com/~ff/reuters/businessNews?i=USUzSxMxZ0g:dhCiVHkxKec:V_sGLiPBpWU\" border=\"0\"></img></a>\\n</div><img src=\"http://feeds.feedburner.com/~r/reuters/businessNews/~4/USUzSxMxZ0g\" height=\"1\" width=\"1\" alt=\"\"/>', 'Link': 'http://feeds.reuters.com/~r/reuters/businessNews/~3/USUzSxMxZ0g/mexico-u-s-getting-close-on-finalizing-usmca-mexican-official-idUSKBN1YB0I3'}\r\n",
      "\n",
      "http://feeds.reuters.com/reuters/businessNews:{'Type': 'News', 'Timestamp': 1575752793.032276, 'Title': \"Proxy adviser ISS opposes plan by Hudson's Bay chairman to take firm private\", 'Summary': 'Institutional Shareholder Services said on Friday it recommends shareholders vote against a plan by the chairman of Hudson\\'s Bay Co to take the Saks Fifth Avenue owner private after the bid was topped by an offer from Catalyst Capital Group Inc.<div class=\"feedflare\">\\n<a href=\"http://feeds.reuters.com/~ff/reuters/businessNews?a=RLMLc9lpl9w:fLA0-QhOWX0:yIl2AUoC8zA\"><img src=\"http://feeds.feedburner.com/~ff/reuters/businessNews?d=yIl2AUoC8zA\" border=\"0\"></img></a> <a href=\"http://feeds.reuters.com/~ff/reuters/businessNews?a=RLMLc9lpl9w:fLA0-QhOWX0:F7zBnMyn0Lo\"><img src=\"http://feeds.feedburner.com/~ff/reuters/businessNews?i=RLMLc9lpl9w:fLA0-QhOWX0:F7zBnMyn0Lo\" border=\"0\"></img></a> <a href=\"http://feeds.reuters.com/~ff/reuters/businessNews?a=RLMLc9lpl9w:fLA0-QhOWX0:V_sGLiPBpWU\"><img src=\"http://feeds.feedburner.com/~ff/reuters/businessNews?i=RLMLc9lpl9w:fLA0-QhOWX0:V_sGLiPBpWU\" border=\"0\"></img></a>\\n</div><img src=\"http://feeds.feedburner.com/~r/reuters/businessNews/~4/RLMLc9lpl9w\" height=\"1\" width=\"1\" alt=\"\"/>', 'Link': 'http://feeds.reuters.com/~r/reuters/businessNews/~3/RLMLc9lpl9w/proxy-adviser-iss-opposes-plan-by-hudsons-bay-chairman-to-take-firm-private-idUSKBN1YB052'}\r\n",
      "\n",
      "http://feeds.reuters.com/reuters/businessNews:{'Type': 'News', 'Timestamp': 1575752793.032298, 'Title': 'Ericsson to pay over $1 billion to resolve U.S. corruption probes', 'Summary': 'Swedish mobile telecoms company Ericsson  has agreed to pay over $1 billion to resolve probes into corruption, including the bribing of government officials, the U.S. Department of Justice said on Friday.<div class=\"feedflare\">\\n<a href=\"http://feeds.reuters.com/~ff/reuters/businessNews?a=6ZFPrFGP2cI:kQ6ReprPjeg:yIl2AUoC8zA\"><img src=\"http://feeds.feedburner.com/~ff/reuters/businessNews?d=yIl2AUoC8zA\" border=\"0\"></img></a> <a href=\"http://feeds.reuters.com/~ff/reuters/businessNews?a=6ZFPrFGP2cI:kQ6ReprPjeg:F7zBnMyn0Lo\"><img src=\"http://feeds.feedburner.com/~ff/reuters/businessNews?i=6ZFPrFGP2cI:kQ6ReprPjeg:F7zBnMyn0Lo\" border=\"0\"></img></a> <a href=\"http://feeds.reuters.com/~ff/reuters/businessNews?a=6ZFPrFGP2cI:kQ6ReprPjeg:V_sGLiPBpWU\"><img src=\"http://feeds.feedburner.com/~ff/reuters/businessNews?i=6ZFPrFGP2cI:kQ6ReprPjeg:V_sGLiPBpWU\" border=\"0\"></img></a>\\n</div><img src=\"http://feeds.feedburner.com/~r/reuters/businessNews/~4/6ZFPrFGP2cI\" height=\"1\" width=\"1\" alt=\"\"/>', 'Link': 'http://feeds.reuters.com/~r/reuters/businessNews/~3/6ZFPrFGP2cI/ericsson-to-pay-over-1-billion-to-resolve-u-s-corruption-probes-idUSKBN1YA2HU'}\r\n",
      "\n",
      "http://feeds.reuters.com/reuters/businessNews:{'Type': 'News', 'Timestamp': 1575752793.03234, 'Title': \"Fiat appeals to Europe's top court against $33 million EU tax order\", 'Summary': 'Carmaker Fiat Chrysler  has lodged an appeal with Europe\\'s top court against an EU order to pay 30 million euros ($33 million) in Luxembourg back-taxes, seeking to overturn a lower tribunal ruling backing EU antitrust regulators.<div class=\"feedflare\">\\n<a href=\"http://feeds.reuters.com/~ff/reuters/businessNews?a=aS3qxvf3TDQ:GP59TsZVobE:yIl2AUoC8zA\"><img src=\"http://feeds.feedburner.com/~ff/reuters/businessNews?d=yIl2AUoC8zA\" border=\"0\"></img></a> <a href=\"http://feeds.reuters.com/~ff/reuters/businessNews?a=aS3qxvf3TDQ:GP59TsZVobE:F7zBnMyn0Lo\"><img src=\"http://feeds.feedburner.com/~ff/reuters/businessNews?i=aS3qxvf3TDQ:GP59TsZVobE:F7zBnMyn0Lo\" border=\"0\"></img></a> <a href=\"http://feeds.reuters.com/~ff/reuters/businessNews?a=aS3qxvf3TDQ:GP59TsZVobE:V_sGLiPBpWU\"><img src=\"http://feeds.feedburner.com/~ff/reuters/businessNews?i=aS3qxvf3TDQ:GP59TsZVobE:V_sGLiPBpWU\" border=\"0\"></img></a>\\n</div><img src=\"http://feeds.feedburner.com/~r/reuters/businessNews/~4/aS3qxvf3TDQ\" height=\"1\" width=\"1\" alt=\"\"/>', 'Link': 'http://feeds.reuters.com/~r/reuters/businessNews/~3/aS3qxvf3TDQ/fiat-appeals-to-europes-top-court-against-33-million-eu-tax-order-idUSKBN1YB0G5'}\r\n",
      "\n",
      "http://feeds.reuters.com/reuters/businessNews:{'Type': 'News', 'Timestamp': 1575752793.032367, 'Title': \"Tesla boss Elon Musk wins defamation trial over his 'pedo guy' tweet\", 'Summary': 'Tesla Inc boss Elon Musk emerged victorious on Friday from a closely watched defamation trial as a federal court jury swiftly rejected the $190 million claim brought against him by a British cave explorer who Musk had branded a \"pedo guy\" on Twitter.<div class=\"feedflare\">\\n<a href=\"http://feeds.reuters.com/~ff/reuters/businessNews?a=734xyQBhmd0:G3xBGE4v15E:yIl2AUoC8zA\"><img src=\"http://feeds.feedburner.com/~ff/reuters/businessNews?d=yIl2AUoC8zA\" border=\"0\"></img></a> <a href=\"http://feeds.reuters.com/~ff/reuters/businessNews?a=734xyQBhmd0:G3xBGE4v15E:F7zBnMyn0Lo\"><img src=\"http://feeds.feedburner.com/~ff/reuters/businessNews?i=734xyQBhmd0:G3xBGE4v15E:F7zBnMyn0Lo\" border=\"0\"></img></a> <a href=\"http://feeds.reuters.com/~ff/reuters/businessNews?a=734xyQBhmd0:G3xBGE4v15E:V_sGLiPBpWU\"><img src=\"http://feeds.feedburner.com/~ff/reuters/businessNews?i=734xyQBhmd0:G3xBGE4v15E:V_sGLiPBpWU\" border=\"0\"></img></a>\\n</div><img src=\"http://feeds.feedburner.com/~r/reuters/businessNews/~4/734xyQBhmd0\" height=\"1\" width=\"1\" alt=\"\"/>', 'Link': 'http://feeds.reuters.com/~r/reuters/businessNews/~3/734xyQBhmd0/tesla-boss-elon-musk-wins-defamation-trial-over-his-pedo-guy-tweet-idUSKBN1YA13U'}\r\n",
      "\n",
      "http://feeds.reuters.com/reuters/businessNews:{'Type': 'News', 'Timestamp': 1575752793.032391, 'Title': \"Musk's defamation win may reset legal landscape for social media\", 'Summary': '((This December 6 story is refiled to fix typo in quote in paragraph nine))<div class=\"feedflare\">\\n<a href=\"http://feeds.reuters.com/~ff/reuters/businessNews?a=NmP2T47cABc:AqR_fPyLuSc:yIl2AUoC8zA\"><img src=\"http://feeds.feedburner.com/~ff/reuters/businessNews?d=yIl2AUoC8zA\" border=\"0\"></img></a> <a href=\"http://feeds.reuters.com/~ff/reuters/businessNews?a=NmP2T47cABc:AqR_fPyLuSc:F7zBnMyn0Lo\"><img src=\"http://feeds.feedburner.com/~ff/reuters/businessNews?i=NmP2T47cABc:AqR_fPyLuSc:F7zBnMyn0Lo\" border=\"0\"></img></a> <a href=\"http://feeds.reuters.com/~ff/reuters/businessNews?a=NmP2T47cABc:AqR_fPyLuSc:V_sGLiPBpWU\"><img src=\"http://feeds.feedburner.com/~ff/reuters/businessNews?i=NmP2T47cABc:AqR_fPyLuSc:V_sGLiPBpWU\" border=\"0\"></img></a>\\n</div><img src=\"http://feeds.feedburner.com/~r/reuters/businessNews/~4/NmP2T47cABc\" height=\"1\" width=\"1\" alt=\"\"/>', 'Link': 'http://feeds.reuters.com/~r/reuters/businessNews/~3/NmP2T47cABc/musks-defamation-win-may-reset-legal-landscape-for-social-media-idUSKBN1YB023'}\r\n",
      "\n",
      "http://feeds.reuters.com/reuters/businessNews:{'Type': 'News', 'Timestamp': 1575752793.032437, 'Title': \"Mexico says 'good progress' on trade deal although work remains\", 'Summary': 'Negotiators working to close a new North American trade deal have made \"good progress\" but many elements are not yet resolved, Mexico\\'s deputy foreign minister said on Friday.<div class=\"feedflare\">\\n<a href=\"http://feeds.reuters.com/~ff/reuters/businessNews?a=Md5ZxXFp450:cbanTRnq0XU:yIl2AUoC8zA\"><img src=\"http://feeds.feedburner.com/~ff/reuters/businessNews?d=yIl2AUoC8zA\" border=\"0\"></img></a> <a href=\"http://feeds.reuters.com/~ff/reuters/businessNews?a=Md5ZxXFp450:cbanTRnq0XU:F7zBnMyn0Lo\"><img src=\"http://feeds.feedburner.com/~ff/reuters/businessNews?i=Md5ZxXFp450:cbanTRnq0XU:F7zBnMyn0Lo\" border=\"0\"></img></a> <a href=\"http://feeds.reuters.com/~ff/reuters/businessNews?a=Md5ZxXFp450:cbanTRnq0XU:V_sGLiPBpWU\"><img src=\"http://feeds.feedburner.com/~ff/reuters/businessNews?i=Md5ZxXFp450:cbanTRnq0XU:V_sGLiPBpWU\" border=\"0\"></img></a>\\n</div><img src=\"http://feeds.feedburner.com/~r/reuters/businessNews/~4/Md5ZxXFp450\" height=\"1\" width=\"1\" alt=\"\"/>', 'Link': 'http://feeds.reuters.com/~r/reuters/businessNews/~3/Md5ZxXFp450/mexico-says-good-progress-on-trade-deal-although-work-remains-idUSKBN1YA2BE'}\r\n",
      "\n",
      "http://feeds.reuters.com/reuters/businessNews:{'Type': 'News', 'Timestamp': 1575752793.032445, 'Title': 'Mexico official lauds progress on trade deal but says work remains', 'Summary': 'Mexico\\'s deputy foreign minister for North America, Jesus Seade, said on Friday that negotiators made \"good progress\" to close the United States-Mexico-Canada Agreement (USMCA) trade deal, but many elements remained to be resolved.<div class=\"feedflare\">\\n<a href=\"http://feeds.reuters.com/~ff/reuters/businessNews?a=U8UgPewFmmo:he0r71Qo5QA:yIl2AUoC8zA\"><img src=\"http://feeds.feedburner.com/~ff/reuters/businessNews?d=yIl2AUoC8zA\" border=\"0\"></img></a> <a href=\"http://feeds.reuters.com/~ff/reuters/businessNews?a=U8UgPewFmmo:he0r71Qo5QA:F7zBnMyn0Lo\"><img src=\"http://feeds.feedburner.com/~ff/reuters/businessNews?i=U8UgPewFmmo:he0r71Qo5QA:F7zBnMyn0Lo\" border=\"0\"></img></a> <a href=\"http://feeds.reuters.com/~ff/reuters/businessNews?a=U8UgPewFmmo:he0r71Qo5QA:V_sGLiPBpWU\"><img src=\"http://feeds.feedburner.com/~ff/reuters/businessNews?i=U8UgPewFmmo:he0r71Qo5QA:V_sGLiPBpWU\" border=\"0\"></img></a>\\n</div><img src=\"http://feeds.feedburner.com/~r/reuters/businessNews/~4/U8UgPewFmmo\" height=\"1\" width=\"1\" alt=\"\"/>', 'Link': 'http://feeds.reuters.com/~r/reuters/businessNews/~3/U8UgPewFmmo/mexico-official-lauds-progress-on-trade-deal-but-says-work-remains-idUSKBN1YB02K'}\r\n",
      "\n",
      "http://feeds.reuters.com/reuters/businessNews:{'Type': 'News', 'Timestamp': 1575752793.032462, 'Title': 'Bankrupt PG&E reaches $13.5 billion settlement with California wildfire victims', 'Summary': 'California\\'s bankrupt power producer PG&E Corp  said on Friday it had reached a $13.5 billion settlement with victims of some of most devastating wildfires in the state\\'s modern history.<div class=\"feedflare\">\\n<a href=\"http://feeds.reuters.com/~ff/reuters/businessNews?a=apeRxpRjXkU:1je_2MIlk8g:yIl2AUoC8zA\"><img src=\"http://feeds.feedburner.com/~ff/reuters/businessNews?d=yIl2AUoC8zA\" border=\"0\"></img></a> <a href=\"http://feeds.reuters.com/~ff/reuters/businessNews?a=apeRxpRjXkU:1je_2MIlk8g:F7zBnMyn0Lo\"><img src=\"http://feeds.feedburner.com/~ff/reuters/businessNews?i=apeRxpRjXkU:1je_2MIlk8g:F7zBnMyn0Lo\" border=\"0\"></img></a> <a href=\"http://feeds.reuters.com/~ff/reuters/businessNews?a=apeRxpRjXkU:1je_2MIlk8g:V_sGLiPBpWU\"><img src=\"http://feeds.feedburner.com/~ff/reuters/businessNews?i=apeRxpRjXkU:1je_2MIlk8g:V_sGLiPBpWU\" border=\"0\"></img></a>\\n</div><img src=\"http://feeds.feedburner.com/~r/reuters/businessNews/~4/apeRxpRjXkU\" height=\"1\" width=\"1\" alt=\"\"/>', 'Link': 'http://feeds.reuters.com/~r/reuters/businessNews/~3/apeRxpRjXkU/bankrupt-pge-reaches-13-5-billion-settlement-with-california-wildfire-victims-idUSKBN1YB03M'}\r\n",
      "\n",
      "http://feeds.reuters.com/reuters/businessNews:{'Type': 'News', 'Timestamp': 1575752793.033498, 'Title': 'Trump calls for World Bank to stop loaning to China', 'Summary': 'U.S. President Donald Trump on Friday called for the World Bank to stop loaning money to China, one day after the institution adopted a lending plan to Beijing over Washington\\'s objections.<div class=\"feedflare\">\\n<a href=\"http://feeds.reuters.com/~ff/reuters/businessNews?a=hocBEVisfyw:OvSe1x3f-JU:yIl2AUoC8zA\"><img src=\"http://feeds.feedburner.com/~ff/reuters/businessNews?d=yIl2AUoC8zA\" border=\"0\"></img></a> <a href=\"http://feeds.reuters.com/~ff/reuters/businessNews?a=hocBEVisfyw:OvSe1x3f-JU:F7zBnMyn0Lo\"><img src=\"http://feeds.feedburner.com/~ff/reuters/businessNews?i=hocBEVisfyw:OvSe1x3f-JU:F7zBnMyn0Lo\" border=\"0\"></img></a> <a href=\"http://feeds.reuters.com/~ff/reuters/businessNews?a=hocBEVisfyw:OvSe1x3f-JU:V_sGLiPBpWU\"><img src=\"http://feeds.feedburner.com/~ff/reuters/businessNews?i=hocBEVisfyw:OvSe1x3f-JU:V_sGLiPBpWU\" border=\"0\"></img></a>\\n</div><img src=\"http://feeds.feedburner.com/~r/reuters/businessNews/~4/hocBEVisfyw\" height=\"1\" width=\"1\" alt=\"\"/>', 'Link': 'http://feeds.reuters.com/~r/reuters/businessNews/~3/hocBEVisfyw/trump-calls-for-world-bank-to-stop-loaning-to-china-idUSKBN1YB010'}\r\n",
      "\n",
      "http://feeds.reuters.com/reuters/businessNews:{'Type': 'News', 'Timestamp': 1575752793.033597, 'Title': 'Wall Street Week Ahead: Tariff deadline keeps focus on trade as 2019 draws to close', 'Summary': 'The stock market looks set to end 2019 the way it began the year -- highly sensitive to headlines from President Donald Trump\\'s global trade war.<div class=\"feedflare\">\\n<a href=\"http://feeds.reuters.com/~ff/reuters/businessNews?a=e_i8HBynt-w:uEigAmBKfFw:yIl2AUoC8zA\"><img src=\"http://feeds.feedburner.com/~ff/reuters/businessNews?d=yIl2AUoC8zA\" border=\"0\"></img></a> <a href=\"http://feeds.reuters.com/~ff/reuters/businessNews?a=e_i8HBynt-w:uEigAmBKfFw:F7zBnMyn0Lo\"><img src=\"http://feeds.feedburner.com/~ff/reuters/businessNews?i=e_i8HBynt-w:uEigAmBKfFw:F7zBnMyn0Lo\" border=\"0\"></img></a> <a href=\"http://feeds.reuters.com/~ff/reuters/businessNews?a=e_i8HBynt-w:uEigAmBKfFw:V_sGLiPBpWU\"><img src=\"http://feeds.feedburner.com/~ff/reuters/businessNews?i=e_i8HBynt-w:uEigAmBKfFw:V_sGLiPBpWU\" border=\"0\"></img></a>\\n</div><img src=\"http://feeds.feedburner.com/~r/reuters/businessNews/~4/e_i8HBynt-w\" height=\"1\" width=\"1\" alt=\"\"/>', 'Link': 'http://feeds.reuters.com/~r/reuters/businessNews/~3/e_i8HBynt-w/wall-street-week-ahead-tariff-deadline-keeps-focus-on-trade-as-2019-draws-to-close-idUSKBN1YA1U1'}\r\n",
      "\n",
      "http://feeds.reuters.com/reuters/businessNews:{'Type': 'News', 'Timestamp': 1575752793.033642, 'Title': 'FAA seeks $3.9 million fine from Boeing for defective parts on 737 NG planes', 'Summary': 'The Federal Aviation Administration (FAA) said on Friday it seeks to impose a $3.9 million fine on Boeing Co, alleging it failed to prevent the installation of defective parts on about 130 737 NG airplanes.<div class=\"feedflare\">\\n<a href=\"http://feeds.reuters.com/~ff/reuters/businessNews?a=1h0sleFxTgE:DF4fBExP928:yIl2AUoC8zA\"><img src=\"http://feeds.feedburner.com/~ff/reuters/businessNews?d=yIl2AUoC8zA\" border=\"0\"></img></a> <a href=\"http://feeds.reuters.com/~ff/reuters/businessNews?a=1h0sleFxTgE:DF4fBExP928:F7zBnMyn0Lo\"><img src=\"http://feeds.feedburner.com/~ff/reuters/businessNews?i=1h0sleFxTgE:DF4fBExP928:F7zBnMyn0Lo\" border=\"0\"></img></a> <a href=\"http://feeds.reuters.com/~ff/reuters/businessNews?a=1h0sleFxTgE:DF4fBExP928:V_sGLiPBpWU\"><img src=\"http://feeds.feedburner.com/~ff/reuters/businessNews?i=1h0sleFxTgE:DF4fBExP928:V_sGLiPBpWU\" border=\"0\"></img></a>\\n</div><img src=\"http://feeds.feedburner.com/~r/reuters/businessNews/~4/1h0sleFxTgE\" height=\"1\" width=\"1\" alt=\"\"/>', 'Link': 'http://feeds.reuters.com/~r/reuters/businessNews/~3/1h0sleFxTgE/faa-seeks-3-9-million-fine-from-boeing-for-defective-parts-on-737-ng-planes-idUSKBN1YA2F2'}\r\n",
      "\n",
      "http://feeds.reuters.com/reuters/businessNews:{'Type': 'News', 'Timestamp': 1575752793.03367, 'Title': 'JPMorgan banker testifying for cartel prosecutors says there was no agreement', 'Summary': 'A prosecution witness in an Australian criminal cartel case against Citigroup Inc and Deutsche Bank AG said on Friday that the banks never colluded, but that he helped a regulator build its case to get immunity.<div class=\"feedflare\">\\n<a href=\"http://feeds.reuters.com/~ff/reuters/businessNews?a=IlYAt9YrgJA:RcwlxHT5E-w:yIl2AUoC8zA\"><img src=\"http://feeds.feedburner.com/~ff/reuters/businessNews?d=yIl2AUoC8zA\" border=\"0\"></img></a> <a href=\"http://feeds.reuters.com/~ff/reuters/businessNews?a=IlYAt9YrgJA:RcwlxHT5E-w:F7zBnMyn0Lo\"><img src=\"http://feeds.feedburner.com/~ff/reuters/businessNews?i=IlYAt9YrgJA:RcwlxHT5E-w:F7zBnMyn0Lo\" border=\"0\"></img></a> <a href=\"http://feeds.reuters.com/~ff/reuters/businessNews?a=IlYAt9YrgJA:RcwlxHT5E-w:V_sGLiPBpWU\"><img src=\"http://feeds.feedburner.com/~ff/reuters/businessNews?i=IlYAt9YrgJA:RcwlxHT5E-w:V_sGLiPBpWU\" border=\"0\"></img></a>\\n</div><img src=\"http://feeds.feedburner.com/~r/reuters/businessNews/~4/IlYAt9YrgJA\" height=\"1\" width=\"1\" alt=\"\"/>', 'Link': 'http://feeds.reuters.com/~r/reuters/businessNews/~3/IlYAt9YrgJA/jpmorgan-banker-testifying-for-cartel-prosecutors-says-there-was-no-agreement-idUSKBN1YA08U'}\r\n",
      "\n",
      "http://feeds.reuters.com/reuters/businessNews:{'Type': 'News', 'Timestamp': 1575752793.033741, 'Title': 'Global stocks rally, dollar gains on robust U.S. jobs data', 'Summary': 'The dollar rose and global equity markets jumped on Friday after data showed U.S. job growth increased by the most in 10 months in November, putting to rest recession fears and briefly taking the spotlight off contentious U.S.-China trade talks.<div class=\"feedflare\">\\n<a href=\"http://feeds.reuters.com/~ff/reuters/businessNews?a=r8GFo36xeAc:NUM44kvFTSo:yIl2AUoC8zA\"><img src=\"http://feeds.feedburner.com/~ff/reuters/businessNews?d=yIl2AUoC8zA\" border=\"0\"></img></a> <a href=\"http://feeds.reuters.com/~ff/reuters/businessNews?a=r8GFo36xeAc:NUM44kvFTSo:F7zBnMyn0Lo\"><img src=\"http://feeds.feedburner.com/~ff/reuters/businessNews?i=r8GFo36xeAc:NUM44kvFTSo:F7zBnMyn0Lo\" border=\"0\"></img></a> <a href=\"http://feeds.reuters.com/~ff/reuters/businessNews?a=r8GFo36xeAc:NUM44kvFTSo:V_sGLiPBpWU\"><img src=\"http://feeds.feedburner.com/~ff/reuters/businessNews?i=r8GFo36xeAc:NUM44kvFTSo:V_sGLiPBpWU\" border=\"0\"></img></a>\\n</div><img src=\"http://feeds.feedburner.com/~r/reuters/businessNews/~4/r8GFo36xeAc\" height=\"1\" width=\"1\" alt=\"\"/>', 'Link': 'http://feeds.reuters.com/~r/reuters/businessNews/~3/r8GFo36xeAc/global-stocks-rally-dollar-gains-on-robust-u-s-jobs-data-idUSKBN1YA025'}\r\n",
      "\n",
      "http://feeds.reuters.com/reuters/businessNews:{'Type': 'News', 'Timestamp': 1575752793.033763, 'Title': 'Wall Street climbs on solid jobs data, trade hopes', 'Summary': 'Wall Street ended solidly higher on Friday as a strong jobs report and optimism about U.S.-China trade negotiations ahead of an upcoming deadline helped stoke investor risk appetite.<div class=\"feedflare\">\\n<a href=\"http://feeds.reuters.com/~ff/reuters/businessNews?a=ZijJxnxs6Ss:3mx0GsioDJY:yIl2AUoC8zA\"><img src=\"http://feeds.feedburner.com/~ff/reuters/businessNews?d=yIl2AUoC8zA\" border=\"0\"></img></a> <a href=\"http://feeds.reuters.com/~ff/reuters/businessNews?a=ZijJxnxs6Ss:3mx0GsioDJY:F7zBnMyn0Lo\"><img src=\"http://feeds.feedburner.com/~ff/reuters/businessNews?i=ZijJxnxs6Ss:3mx0GsioDJY:F7zBnMyn0Lo\" border=\"0\"></img></a> <a href=\"http://feeds.reuters.com/~ff/reuters/businessNews?a=ZijJxnxs6Ss:3mx0GsioDJY:V_sGLiPBpWU\"><img src=\"http://feeds.feedburner.com/~ff/reuters/businessNews?i=ZijJxnxs6Ss:3mx0GsioDJY:V_sGLiPBpWU\" border=\"0\"></img></a>\\n</div><img src=\"http://feeds.feedburner.com/~r/reuters/businessNews/~4/ZijJxnxs6Ss\" height=\"1\" width=\"1\" alt=\"\"/>', 'Link': 'http://feeds.reuters.com/~r/reuters/businessNews/~3/ZijJxnxs6Ss/wall-street-climbs-on-solid-jobs-data-trade-hopes-idUSKBN1Y81LJ'}\r\n",
      "\n",
      "http://feeds.reuters.com/reuters/businessNews:{'Type': 'News', 'Timestamp': 1575752793.033785, 'Title': \"Tesla Inc boss Elon Musk wins defamation trial over 'pedo guy' tweet\", 'Summary': 'A U.S. District Court jury in Los Angeles on Friday found in favor of Tesla Inc  boss Elon Musk in the defamation lawsuit brought against him by a British cave explorer who Musk had branded a \"pedo guy\" on Twitter.<div class=\"feedflare\">\\n<a href=\"http://feeds.reuters.com/~ff/reuters/businessNews?a=i9eR9bdUh18:NO23RsqCWPw:yIl2AUoC8zA\"><img src=\"http://feeds.feedburner.com/~ff/reuters/businessNews?d=yIl2AUoC8zA\" border=\"0\"></img></a> <a href=\"http://feeds.reuters.com/~ff/reuters/businessNews?a=i9eR9bdUh18:NO23RsqCWPw:F7zBnMyn0Lo\"><img src=\"http://feeds.feedburner.com/~ff/reuters/businessNews?i=i9eR9bdUh18:NO23RsqCWPw:F7zBnMyn0Lo\" border=\"0\"></img></a> <a href=\"http://feeds.reuters.com/~ff/reuters/businessNews?a=i9eR9bdUh18:NO23RsqCWPw:V_sGLiPBpWU\"><img src=\"http://feeds.feedburner.com/~ff/reuters/businessNews?i=i9eR9bdUh18:NO23RsqCWPw:V_sGLiPBpWU\" border=\"0\"></img></a>\\n</div><img src=\"http://feeds.feedburner.com/~r/reuters/businessNews/~4/i9eR9bdUh18\" height=\"1\" width=\"1\" alt=\"\"/>', 'Link': 'http://feeds.reuters.com/~r/reuters/businessNews/~3/i9eR9bdUh18/tesla-inc-boss-elon-musk-wins-defamation-trial-over-pedo-guy-tweet-idUSKBN1YA2KP'}\r\n",
      "\n",
      "http://feeds.reuters.com/reuters/businessNews:{'Type': 'News', 'Timestamp': 1575752793.033814, 'Title': 'Saudi delivers deeper cuts as OPEC+ oil producers back new pact', 'Summary': 'By Shadia Nasralla, Olesya Astakhova and Bozorgmehr Sharafedin<div class=\"feedflare\">\\n<a href=\"http://feeds.reuters.com/~ff/reuters/businessNews?a=qHy_qcrrcHU:gz3EoHN5eTM:yIl2AUoC8zA\"><img src=\"http://feeds.feedburner.com/~ff/reuters/businessNews?d=yIl2AUoC8zA\" border=\"0\"></img></a> <a href=\"http://feeds.reuters.com/~ff/reuters/businessNews?a=qHy_qcrrcHU:gz3EoHN5eTM:F7zBnMyn0Lo\"><img src=\"http://feeds.feedburner.com/~ff/reuters/businessNews?i=qHy_qcrrcHU:gz3EoHN5eTM:F7zBnMyn0Lo\" border=\"0\"></img></a> <a href=\"http://feeds.reuters.com/~ff/reuters/businessNews?a=qHy_qcrrcHU:gz3EoHN5eTM:V_sGLiPBpWU\"><img src=\"http://feeds.feedburner.com/~ff/reuters/businessNews?i=qHy_qcrrcHU:gz3EoHN5eTM:V_sGLiPBpWU\" border=\"0\"></img></a>\\n</div><img src=\"http://feeds.feedburner.com/~r/reuters/businessNews/~4/qHy_qcrrcHU\" height=\"1\" width=\"1\" alt=\"\"/>', 'Link': 'http://feeds.reuters.com/~r/reuters/businessNews/~3/qHy_qcrrcHU/saudi-delivers-deeper-cuts-as-opec-oil-producers-back-new-pact-idUSKBN1YA0VU'}\r\n",
      "\n",
      "http://feeds.reuters.com/reuters/businessNews:{'Type': 'News', 'Timestamp': 1575752793.033836, 'Title': 'What deeper OPEC+ oil output cuts mean for the market', 'Summary': 'Saudi Arabia and Russia led a deal on Friday in which OPEC and its allies committed to deeper oil output cuts in the first quarter of 2020 aiming to avert oversupply and support prices.<div class=\"feedflare\">\\n<a href=\"http://feeds.reuters.com/~ff/reuters/businessNews?a=ZUoKsIaYB5w:kE2_K4fUoT8:yIl2AUoC8zA\"><img src=\"http://feeds.feedburner.com/~ff/reuters/businessNews?d=yIl2AUoC8zA\" border=\"0\"></img></a> <a href=\"http://feeds.reuters.com/~ff/reuters/businessNews?a=ZUoKsIaYB5w:kE2_K4fUoT8:F7zBnMyn0Lo\"><img src=\"http://feeds.feedburner.com/~ff/reuters/businessNews?i=ZUoKsIaYB5w:kE2_K4fUoT8:F7zBnMyn0Lo\" border=\"0\"></img></a> <a href=\"http://feeds.reuters.com/~ff/reuters/businessNews?a=ZUoKsIaYB5w:kE2_K4fUoT8:V_sGLiPBpWU\"><img src=\"http://feeds.feedburner.com/~ff/reuters/businessNews?i=ZUoKsIaYB5w:kE2_K4fUoT8:V_sGLiPBpWU\" border=\"0\"></img></a>\\n</div><img src=\"http://feeds.feedburner.com/~r/reuters/businessNews/~4/ZUoKsIaYB5w\" height=\"1\" width=\"1\" alt=\"\"/>', 'Link': 'http://feeds.reuters.com/~r/reuters/businessNews/~3/ZUoKsIaYB5w/what-deeper-opec-oil-output-cuts-mean-for-the-market-idUSKBN1YA1KX'}\r\n",
      "\n",
      "http://feeds.reuters.com/reuters/businessNews:{'Type': 'News', 'Timestamp': 1575752793.033858, 'Title': 'U.S. lawmaker says Uber must take action after disclosing sexual assault reports', 'Summary': 'The chairman of the House Transportation and Infrastructure Committee urged Uber Technologies Inc to take action after the company disclosed on Thursday it received over 3,000 reports of sexual assault related to its 1.3 billion rides in the United States last year.<div class=\"feedflare\">\\n<a href=\"http://feeds.reuters.com/~ff/reuters/businessNews?a=sdPmAeIlUk0:tdGf_MyL6Ls:yIl2AUoC8zA\"><img src=\"http://feeds.feedburner.com/~ff/reuters/businessNews?d=yIl2AUoC8zA\" border=\"0\"></img></a> <a href=\"http://feeds.reuters.com/~ff/reuters/businessNews?a=sdPmAeIlUk0:tdGf_MyL6Ls:F7zBnMyn0Lo\"><img src=\"http://feeds.feedburner.com/~ff/reuters/businessNews?i=sdPmAeIlUk0:tdGf_MyL6Ls:F7zBnMyn0Lo\" border=\"0\"></img></a> <a href=\"http://feeds.reuters.com/~ff/reuters/businessNews?a=sdPmAeIlUk0:tdGf_MyL6Ls:V_sGLiPBpWU\"><img src=\"http://feeds.feedburner.com/~ff/reuters/businessNews?i=sdPmAeIlUk0:tdGf_MyL6Ls:V_sGLiPBpWU\" border=\"0\"></img></a>\\n</div><img src=\"http://feeds.feedburner.com/~r/reuters/businessNews/~4/sdPmAeIlUk0\" height=\"1\" width=\"1\" alt=\"\"/>', 'Link': 'http://feeds.reuters.com/~r/reuters/businessNews/~3/sdPmAeIlUk0/u-s-lawmaker-says-uber-must-take-action-after-disclosing-sexual-assault-reports-idUSKBN1YA1W8'}\r\n",
      "\n",
      "Hourly Run Events Complete - Sleeping now\n"
     ]
    }
   ],
   "source": [
    "HourlyJob()"
   ]
  },
  {
   "cell_type": "code",
   "execution_count": null,
   "metadata": {},
   "outputs": [],
   "source": [
    "schedule.clear()\n",
    "HourlyJob()\n",
    "\n",
    "schedule.every(1).minute.do(HourlyJob)\n",
    "starttime = datetime.now()\n",
    "endtime = starttime + timedelta(minutes=5)\n",
    "\n",
    "while True: #datetime.now()<endtime:\n",
    "    schedule.run_pending()\n",
    "    sleep(10)\n",
    "    \n",
    "schedule.clear()"
   ]
  },
  {
   "cell_type": "code",
   "execution_count": null,
   "metadata": {},
   "outputs": [],
   "source": []
  }
 ],
 "metadata": {
  "kernelspec": {
   "display_name": "Python 3",
   "language": "python",
   "name": "python3"
  },
  "language_info": {
   "codemirror_mode": {
    "name": "ipython",
    "version": 3
   },
   "file_extension": ".py",
   "mimetype": "text/x-python",
   "name": "python",
   "nbconvert_exporter": "python",
   "pygments_lexer": "ipython3",
   "version": "3.7.3"
  }
 },
 "nbformat": 4,
 "nbformat_minor": 2
}
