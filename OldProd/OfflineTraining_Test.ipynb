{
 "cells": [
  {
   "cell_type": "code",
   "execution_count": 15,
   "metadata": {},
   "outputs": [],
   "source": [
    "# Install TF-Hub.\n",
    "!pip install -q tensorflow-hub\n",
    "!pip install -q seaborn"
   ]
  },
  {
   "cell_type": "code",
   "execution_count": 16,
   "metadata": {},
   "outputs": [],
   "source": [
    "import tensorflow as tf\n",
    "import tensorflow_hub as hub\n",
    "import matplotlib.pyplot as plt\n",
    "import numpy as np\n",
    "import os\n",
    "import pandas as pd\n",
    "import re\n",
    "import seaborn as sns"
   ]
  },
  {
   "cell_type": "code",
   "execution_count": 29,
   "metadata": {},
   "outputs": [],
   "source": [
    "# Load all files from a directory in a DataFrame.\n",
    "def load_data(click_directory, news_directory):\n",
    "    data = {}\n",
    "    data[\"input\"] = []\n",
    "    data[\"click\"] = []\n",
    "    data[\"user\"]  = []\n",
    "    for file_path in os.listdir(click_directory):\n",
    "        if \".crc\" not in file_path:\n",
    "            with open(os.path.join(click_directory, file_path), \"r\") as f:\n",
    "                for line in f:\n",
    "                    components = line.rsplit(',',1)\n",
    "                    data[\"input\"].append(components[0])\n",
    "                    data[\"user\"].append(components[1])\n",
    "                    data[\"click\"].append(1)\n",
    "    for file_path in os.listdir(news_directory):\n",
    "        if \".crc\" not in file_path:\n",
    "            with open(os.path.join(news_directory, file_path), \"r\") as f:\n",
    "                for line in f:\n",
    "                    for user in data[\"user\"]:\n",
    "                        data[\"input\"].append(line)\n",
    "                        data[\"user\"].append(user)\n",
    "                        data[\"click\"].append(0)\n",
    "    return pd.DataFrame.from_dict(data)"
   ]
  },
  {
   "cell_type": "code",
   "execution_count": null,
   "metadata": {},
   "outputs": [],
   "source": [
    "data = load_data(\"/home/jovyan/work/ClickData.csv/\",\"/home/jovyan/work/NewsData.csv/\")"
   ]
  },
  {
   "cell_type": "code",
   "execution_count": null,
   "metadata": {},
   "outputs": [],
   "source": []
  }
 ],
 "metadata": {
  "kernelspec": {
   "display_name": "Python 3",
   "language": "python",
   "name": "python3"
  },
  "language_info": {
   "codemirror_mode": {
    "name": "ipython",
    "version": 3
   },
   "file_extension": ".py",
   "mimetype": "text/x-python",
   "name": "python",
   "nbconvert_exporter": "python",
   "pygments_lexer": "ipython3",
   "version": "3.7.3"
  }
 },
 "nbformat": 4,
 "nbformat_minor": 2
}
