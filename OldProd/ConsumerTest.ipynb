{
 "cells": [
  {
   "cell_type": "code",
   "execution_count": null,
   "metadata": {},
   "outputs": [
    {
     "name": "stdout",
     "output_type": "stream",
     "text": [
      "{'number': 0} added\n",
      "{'number': 1} added\n",
      "{'number': 2} added\n",
      "{'number': 3} added\n",
      "{'number': 4} added\n",
      "{'number': 5} added\n",
      "{'number': 6} added\n",
      "{'number': 7} added\n",
      "{'number': 8} added\n",
      "{'number': 9} added\n",
      "{'number': 10} added\n",
      "{'number': 11} added\n",
      "{'number': 12} added\n",
      "{'number': 13} added\n",
      "{'number': 0} added\n",
      "{'number': 1} added\n",
      "{'number': 2} added\n",
      "{'number': 3} added\n",
      "{'number': 4} added\n",
      "{'number': 5} added\n",
      "{'number': 6} added\n",
      "{'number': 7} added\n",
      "{'number': 8} added\n",
      "{'number': 9} added\n",
      "{'number': 0} added\n",
      "{'number': 1} added\n",
      "{'number': 2} added\n",
      "{'number': 3} added\n",
      "{'number': 4} added\n",
      "{'number': 5} added\n",
      "{'number': 6} added\n",
      "{'number': 7} added\n",
      "{'number': 8} added\n",
      "{'number': 9} added\n",
      "{'number': 0} added\n",
      "{'number': 1} added\n",
      "{'number': 2} added\n",
      "{'number': 3} added\n"
     ]
    }
   ],
   "source": [
    "from kafka import KafkaConsumer\n",
    "from json import loads\n",
    "\n",
    "consumer = KafkaConsumer(\n",
    "    'test',\n",
    "     bootstrap_servers=['broker.1.s23zjo644yug2h8vo6zf5f0yc:9092'],\n",
    "     api_version= (0,11),\n",
    "     auto_offset_reset='earliest',\n",
    "     enable_auto_commit=True,\n",
    "     #group_id='my-group',\n",
    "     value_deserializer=lambda x: loads(x.decode('utf-8')))\n",
    "\n",
    "for message in consumer:\n",
    "    message = message.value\n",
    "    print('{0} added'.format(message))"
   ]
  },
  {
   "cell_type": "code",
   "execution_count": null,
   "metadata": {},
   "outputs": [],
   "source": []
  }
 ],
 "metadata": {
  "kernelspec": {
   "display_name": "Python 3",
   "language": "python",
   "name": "python3"
  },
  "language_info": {
   "codemirror_mode": {
    "name": "ipython",
    "version": 3
   },
   "file_extension": ".py",
   "mimetype": "text/x-python",
   "name": "python",
   "nbconvert_exporter": "python",
   "pygments_lexer": "ipython3",
   "version": "3.7.3"
  }
 },
 "nbformat": 4,
 "nbformat_minor": 2
}
