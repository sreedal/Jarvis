{
 "cells": [
  {
   "cell_type": "markdown",
   "metadata": {},
   "source": [
    "**Commands to start Development Environment**\n",
    "1. Install Docker-Desktop, Login\n",
    "2. docker run (Jupyter notebook - should update command once loggeing out)\n",
    "    1. docker run --name devenv -it --entrypoint=/bin/bash -p 8880:8888 -v C:\\users\\srmenon\\Documents:/notebooks jupyter/tensorflow-note\n",
    "    \n",
    "3. cd /notebooks/\n",
    "4. nohup jupyter notebook --port 8880 --allow-root &"
   ]
  },
  {
   "cell_type": "code",
   "execution_count": null,
   "metadata": {},
   "outputs": [],
   "source": [
    "#!pip install twitter\n",
    "#!pip install feedparser"
   ]
  },
  {
   "cell_type": "code",
   "execution_count": null,
   "metadata": {},
   "outputs": [],
   "source": [
    "# Authenticate with Twitter & search\n",
    "# https://pypi.org/project/twitter/\n",
    "# https://developer.twitter.com/en/apps/17019807\n",
    "from twitter import *\n",
    "t = Twitter(auth=OAuth(consumer_key=\"nDwKHutvaskyGecZkCS1SiYY8\", consumer_secret=\"zlQdJIuFUGGglbMO2kYMk6oNLFztzipxhRANNz5q5gqfn1tGb1\", token=\"73568030-GqfoqkfWRhqhARS9uzz51vg1UGSV7AGRaOxDkAurZ\", token_secret=\"1kiHGfyDfO7gcaJbGFnr3lnLA3vXc8ti9hJhj1lnTTvEm\"))\n",
    "t.search.tweets(q=\"$MSFT\")"
   ]
  },
  {
   "cell_type": "code",
   "execution_count": null,
   "metadata": {
    "scrolled": true
   },
   "outputs": [],
   "source": [
    "# Download latest info about ticker from Y! Finance Feed \n",
    "# https://query1.finance.yahoo.com/v7/finance/chart/MSFT?&interval=5m\n",
    "import json\n",
    "from urllib.request import urlopen\n",
    "json.load(urlopen(\"https://query1.finance.yahoo.com/v7/finance/chart/MSFT?&interval=5m\"))"
   ]
  },
  {
   "cell_type": "code",
   "execution_count": null,
   "metadata": {},
   "outputs": [],
   "source": [
    "# Use feedparser to download and parse reuters feed for business news\n",
    "# https://www.pythonforbeginners.com/feedparser/using-feedparser-in-python\n",
    "# http://feeds.reuters.com/reuters/businessNews\n",
    "import feedparser\n",
    "d = feedparser.parse(\"http://feeds.reuters.com/reuters/businessNews\")\n",
    "print([l.title for l in d[\"entries\"]])"
   ]
  },
  {
   "cell_type": "markdown",
   "metadata": {},
   "source": [
    "**Commands to start Kafka Cluster**\n",
    "\n",
    "https://success.docker.com/article/getting-started-with-kafka\n",
    "\n",
    "Use linux container mode (else bridging will fail for overlay network)\n",
    "\n",
    "1. docker swarm init\n",
    "2. docker network create -d overlay --attachable kafka-net\n",
    "3. docker service create --network kafka-net --name=zookeeper  --publish 2181:2181 qnib/plain-zookeeper:latest\n",
    "4. docker service create --network kafka-net --name=zkui --publish 9090:9090 qnib/plain-zkui:latest\n",
    "5. Visit http://localhost:9090/  # Login using admin/manager\n",
    "6. docker service create --network kafka-net --name broker --publish 9092:9092 --hostname=\"{{.Service.Name}}.{{.Task.Slot}}.{{.Task.ID}}\" -e KAFKA_BROKER_ID={{.Task.Slot}} -e ZK_SERVERS=tasks.zookeeper qnib/plain-kafka:latest\n",
    "7. docker ps -q --filter \"label=com.docker.swarm.service.name=broker\"\n",
    "8. docker exec -t -e JMX_PORT=\"\" f6dc03b145c0 /opt/kafka/bin/kafka-topics.sh --zookeeper tasks.zookeeper:2181 --partitions=1 --replication-factor=1 --create --topic test\n",
    "9. docker service create --network kafka-net --name manager -e ZOOKEEPER_HOSTS=tasks.zookeeper --publish=9000:9000 qnib/plain-kafka-manager:latest\n",
    "\n",
    "http://localhost:9000/clusters/kafka\n",
    "\n",
    "OR EQUIVALENTLY\n",
    "\n",
    "https://docs.docker.com/compose/gettingstarted/\n",
    "\n",
    "1. docker-compose up -d KafkaSetup.yml "
   ]
  },
  {
   "cell_type": "code",
   "execution_count": null,
   "metadata": {},
   "outputs": [],
   "source": [
    "!pip install kafka-python"
   ]
  },
  {
   "cell_type": "code",
   "execution_count": null,
   "metadata": {
    "scrolled": true
   },
   "outputs": [],
   "source": [
    "from time import sleep\n",
    "from json import dumps\n",
    "from kafka import KafkaProducer\n",
    "\n",
    "producer = KafkaProducer(\n",
    "    bootstrap_servers=['broker.1.pj1avromrejlg3vk5ab8iq9er:9092'],\n",
    "    api_version= (0,11),\n",
    "    value_serializer=lambda x: dumps(x).encode('utf-8'))\n",
    "\n",
    "for e in range(1000):\n",
    "    print(\"Processing \"+str(e)+\"\\n\")\n",
    "    data = {'number' : e}\n",
    "    producer.send('test', value=data)\n",
    "    sleep(5)"
   ]
  },
  {
   "cell_type": "code",
   "execution_count": null,
   "metadata": {},
   "outputs": [],
   "source": [
    "from kafka import KafkaConsumer\n",
    "from json import loads\n",
    "\n",
    "consumer = KafkaConsumer(\n",
    "    'test',\n",
    "     bootstrap_servers=['broker.1.pj1avromrejlg3vk5ab8iq9er:9092'],\n",
    "     api_version= (0,11),\n",
    "     auto_offset_reset='earliest',\n",
    "     enable_auto_commit=True,\n",
    "     group_id='my-group',\n",
    "     value_deserializer=lambda x: loads(x.decode('utf-8')))\n",
    "\n",
    "for message in consumer:\n",
    "    message = message.value\n",
    "    print('{} added'.format(message))"
   ]
  }
 ],
 "metadata": {
  "kernelspec": {
   "display_name": "Python 3",
   "language": "python",
   "name": "python3"
  },
  "language_info": {
   "codemirror_mode": {
    "name": "ipython",
    "version": 3
   },
   "file_extension": ".py",
   "mimetype": "text/x-python",
   "name": "python",
   "nbconvert_exporter": "python",
   "pygments_lexer": "ipython3",
   "version": "3.7.3"
  }
 },
 "nbformat": 4,
 "nbformat_minor": 2
}
