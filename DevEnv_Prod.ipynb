{
 "cells": [
  {
   "cell_type": "markdown",
   "metadata": {},
   "source": [
    "**Prod Version of DevEnv**\n",
    "\n",
    "**This notebook is run using nbconvert after devenv service starts**"
   ]
  },
  {
   "cell_type": "code",
   "execution_count": 1,
   "metadata": {},
   "outputs": [
    {
     "name": "stdout",
     "output_type": "stream",
     "text": [
      "Requirement already satisfied: twitter in /opt/conda/lib/python3.7/site-packages (1.18.0)\n",
      "Requirement already satisfied: feedparser in /opt/conda/lib/python3.7/site-packages (5.2.1)\n",
      "Requirement already satisfied: schedule in /opt/conda/lib/python3.7/site-packages (0.6.0)\n",
      "Requirement already satisfied: kafka-python in /opt/conda/lib/python3.7/site-packages (1.4.7)\n",
      "Requirement already satisfied: redis in /opt/conda/lib/python3.7/site-packages (3.3.11)\n"
     ]
    }
   ],
   "source": [
    "!pip install twitter\n",
    "!pip install feedparser\n",
    "!pip install schedule\n",
    "!pip install kafka-python\n",
    "!pip install redis"
   ]
  },
  {
   "cell_type": "code",
   "execution_count": 2,
   "metadata": {},
   "outputs": [],
   "source": [
    "from time import sleep\n",
    "from json import dumps, loads, load\n",
    "from kafka import KafkaProducer\n",
    "from datetime import datetime, timedelta\n",
    "from feedparser import parse\n",
    "from urllib.request import urlopen\n",
    "from twitter import Twitter\n",
    "import schedule"
   ]
  },
  {
   "cell_type": "code",
   "execution_count": 3,
   "metadata": {},
   "outputs": [],
   "source": [
    "tickers = [\"MSFT\",\"AAPL\"]\n",
    "\n",
    "producer = KafkaProducer(\n",
    "    bootstrap_servers=['broker:9092'],\n",
    "    api_version= (0,11),\n",
    "    value_serializer=lambda x: dumps(x).encode('utf-8'))"
   ]
  },
  {
   "cell_type": "code",
   "execution_count": 4,
   "metadata": {},
   "outputs": [],
   "source": [
    "def DownloadStreams():\n",
    "    f_data = {}\n",
    "    for ticker in tickers:\n",
    "        try:\n",
    "            y_finance = load(urlopen(\"https://query1.finance.yahoo.com/v7/finance/chart/\"+ticker+\"?range=1h&interval=1h\"))\n",
    "            meta = y_finance['chart']['result'][0]['meta']\n",
    "            timestamp = meta['regularMarketTime']\n",
    "            price = meta['regularMarketPrice']\n",
    "            f_data[ticker] = {\"Ticker\": ticker, \"Timestamp\":timestamp, \"Price\":price}\n",
    "        except:\n",
    "            print(\"Exception in Download Stream for \"+ticker)\n",
    "    return f_data\n",
    "\n",
    "def UploadStreamsToKafka(f_data):\n",
    "    for key in f_data.keys():\n",
    "        producer.send('finance_ticker', value=f_data[key])\n",
    "    producer.flush()\n",
    "\n",
    "def HourlyJob():\n",
    "    # Check, Download & Parse each stream\n",
    "    f_data = DownloadStreams()\n",
    "    # Upload cleaned events into Kafka Topics\n",
    "    UploadStreamsToKafka(f_data)\n",
    "    print(\"Hourly Run Events Complete - Sleeping now\")"
   ]
  },
  {
   "cell_type": "code",
   "execution_count": 5,
   "metadata": {},
   "outputs": [
    {
     "name": "stdout",
     "output_type": "stream",
     "text": [
      "Hourly Run Events Complete - Sleeping now\n",
      "Hourly Run Events Complete - Sleeping now\n",
      "Hourly Run Events Complete - Sleeping now\n"
     ]
    },
    {
     "ename": "KeyboardInterrupt",
     "evalue": "",
     "output_type": "error",
     "traceback": [
      "\u001b[0;31m---------------------------------------------------------------------------\u001b[0m",
      "\u001b[0;31mKeyboardInterrupt\u001b[0m                         Traceback (most recent call last)",
      "\u001b[0;32m<ipython-input-5-4ca00b489be0>\u001b[0m in \u001b[0;36m<module>\u001b[0;34m\u001b[0m\n\u001b[1;32m      6\u001b[0m \u001b[0;32mwhile\u001b[0m \u001b[0mdatetime\u001b[0m\u001b[0;34m.\u001b[0m\u001b[0mnow\u001b[0m\u001b[0;34m(\u001b[0m\u001b[0;34m)\u001b[0m\u001b[0;34m<\u001b[0m\u001b[0mendtime\u001b[0m\u001b[0;34m:\u001b[0m\u001b[0;34m\u001b[0m\u001b[0;34m\u001b[0m\u001b[0m\n\u001b[1;32m      7\u001b[0m     \u001b[0mschedule\u001b[0m\u001b[0;34m.\u001b[0m\u001b[0mrun_pending\u001b[0m\u001b[0;34m(\u001b[0m\u001b[0;34m)\u001b[0m\u001b[0;34m\u001b[0m\u001b[0;34m\u001b[0m\u001b[0m\n\u001b[0;32m----> 8\u001b[0;31m     \u001b[0msleep\u001b[0m\u001b[0;34m(\u001b[0m\u001b[0;36m10\u001b[0m\u001b[0;34m)\u001b[0m\u001b[0;34m\u001b[0m\u001b[0;34m\u001b[0m\u001b[0m\n\u001b[0m\u001b[1;32m      9\u001b[0m \u001b[0;34m\u001b[0m\u001b[0m\n\u001b[1;32m     10\u001b[0m \u001b[0mschedule\u001b[0m\u001b[0;34m.\u001b[0m\u001b[0mclear\u001b[0m\u001b[0;34m(\u001b[0m\u001b[0;34m)\u001b[0m\u001b[0;34m\u001b[0m\u001b[0;34m\u001b[0m\u001b[0m\n",
      "\u001b[0;31mKeyboardInterrupt\u001b[0m: "
     ]
    }
   ],
   "source": [
    "schedule.clear()\n",
    "HourlyJob()\n",
    "\n",
    "schedule.every(1).hour.do(HourlyJob)\n",
    "starttime = datetime.now()\n",
    "endtime = starttime + timedelta(minutes=5)\n",
    "\n",
    "while True: #datetime.now()<endtime:\n",
    "    schedule.run_pending()\n",
    "    sleep(100)\n",
    "    \n",
    "schedule.clear()"
   ]
  },
  {
   "cell_type": "code",
   "execution_count": null,
   "metadata": {},
   "outputs": [],
   "source": [
    "HourlyJob()"
   ]
  }
 ],
 "metadata": {
  "kernelspec": {
   "display_name": "Python 3",
   "language": "python",
   "name": "python3"
  },
  "language_info": {
   "codemirror_mode": {
    "name": "ipython",
    "version": 3
   },
   "file_extension": ".py",
   "mimetype": "text/x-python",
   "name": "python",
   "nbconvert_exporter": "python",
   "pygments_lexer": "ipython3",
   "version": "3.7.3"
  }
 },
 "nbformat": 4,
 "nbformat_minor": 2
}
